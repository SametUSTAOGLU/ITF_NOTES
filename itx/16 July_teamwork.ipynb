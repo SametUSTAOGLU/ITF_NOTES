{
 "cells": [
  {
   "cell_type": "markdown",
   "metadata": {
    "id": "6O2sOTqAZkjR"
   },
   "source": [
    "# **Length of Number**\n",
    "\n",
    "Create a function that takes a number num and returns its length.\n",
    "\n",
    "Examples\n",
    "number_length(10) ➞ 2\n",
    "\n",
    "number_length(5000) ➞ 4\n",
    "\n",
    "number_length(0) ➞ 1\n",
    "\n",
    "# *Notes*\n",
    "\n",
    "The use of the len() function is prohibited."
   ]
  },
  {
   "cell_type": "code",
   "execution_count": 2,
   "metadata": {
    "id": "zXDhFw3ZZg0g"
   },
   "outputs": [
    {
     "name": "stdout",
     "output_type": "stream",
     "text": [
      "Enter a number: 12345\n",
      "12345 length is 5\n"
     ]
    }
   ],
   "source": [
    "number = input('Enter a number: ').strip()\n",
    "count = 0\n",
    "for i in number:\n",
    "    count+=1\n",
    "print(f'{number} length is {count}') \n"
   ]
  },
  {
   "cell_type": "markdown",
   "metadata": {
    "id": "c2_f-6qXZiwf"
   },
   "source": [
    "# **Geometry 1: Length of Line Segment**\n",
    "\n",
    "Write a function that takes coordinates of two points on a two-dimensional plane and returns the length of the line segment connecting those two points.\n",
    "\n",
    "Examples\n",
    "\n",
    "line_length([15, 7], [22, 11]) ➞ 8.06\n",
    "\n",
    "line_length([0, 0], [0, 0]) ➞ 0\n",
    "\n",
    "line_length([0, 0], [1, 1]) ➞ 1.41\n",
    "\n",
    "*Notes*\n",
    "\n",
    "* The order of the given numbers is X, Y.\n",
    "\n",
    "* This challenge is easier than it looks.\n",
    "\n",
    "* Round your result to two decimal places."
   ]
  },
  {
   "cell_type": "code",
   "execution_count": 16,
   "metadata": {},
   "outputs": [],
   "source": [
    "def line_length(x, y):\n",
    "    result = ((y[0]-x[0])**2+(y[1]-x[1])**2)**0.5\n",
    "    return f'{result:.3}'\n",
    "    "
   ]
  },
  {
   "cell_type": "code",
   "execution_count": 17,
   "metadata": {},
   "outputs": [
    {
     "data": {
      "text/plain": [
       "'8.06'"
      ]
     },
     "execution_count": 17,
     "metadata": {},
     "output_type": "execute_result"
    }
   ],
   "source": [
    "line_length([15, 7], [22, 11]) "
   ]
  },
  {
   "cell_type": "markdown",
   "metadata": {
    "id": "URXqfhrGcFag"
   },
   "source": [
    "# **Odd Up, Even Down — N Times**\n",
    "\n",
    "Create a function that performs an even-odd transform to a list, n times. Each even-odd transformation:\n",
    "\n",
    "Adds two (+2) to each odd integer.\n",
    "\n",
    "Subtracts two (-2) from each even integer.\n",
    "\n",
    "Examples\n",
    "\n",
    "* even_odd_transform([3, 4, 9], 3) ➞ [9, -2, 15]\n",
    "\n",
    " ( Since [3, 4, 9] => [5, 2, 11] => [7, 0, 13] => [9, -2, 15])\n",
    "\n",
    "* even_odd_transform([0, 0, 0], 10) ➞ [-20, -20, -20]\n",
    "\n",
    "* even_odd_transform([1, 2, 3], 1) ➞ [3, 0, 5]"
   ]
  },
  {
   "cell_type": "code",
   "execution_count": 7,
   "metadata": {
    "id": "FcVrjyaAcE45"
   },
   "outputs": [],
   "source": [
    "def even_odd_transform(ls, num):\n",
    "    ls1 = []\n",
    "    for i in ls:\n",
    "        if i % 2 == 0:\n",
    "            ls1.append(i+(-2*num))\n",
    "        else:\n",
    "            ls1.append(i+(2*num))\n",
    "    return ls1"
   ]
  },
  {
   "cell_type": "code",
   "execution_count": 6,
   "metadata": {},
   "outputs": [
    {
     "name": "stdout",
     "output_type": "stream",
     "text": [
      "-0.00226773000031244\n"
     ]
    }
   ],
   "source": [
    "start = timeit.timeit()\n",
    "even_odd_transform([1, 2, 3], 1)\n",
    "end = timeit.timeit()\n",
    "print(end - start)"
   ]
  },
  {
   "cell_type": "code",
   "execution_count": 3,
   "metadata": {},
   "outputs": [
    {
     "name": "stdout",
     "output_type": "stream",
     "text": [
      "hello\n",
      "-0.0025504189998173388\n"
     ]
    }
   ],
   "source": [
    "import timeit\n",
    "\n",
    "start = timeit.timeit()\n",
    "print(\"hello\")\n",
    "end = timeit.timeit()\n",
    "print(end - start)"
   ]
  },
  {
   "cell_type": "code",
   "execution_count": null,
   "metadata": {},
   "outputs": [],
   "source": [
    "from timeit import default_timer as timer\n",
    "\n",
    "start = timer()\n",
    "# ...\n",
    "end = timer()\n",
    "print(end - start) # Time in seconds, e.g. 5.38091952400282"
   ]
  }
 ],
 "metadata": {
  "colab": {
   "authorship_tag": "ABX9TyNkW/tk0hnLjjVHYWw0TrjL",
   "name": "16 July_teamwork.ipynb",
   "provenance": []
  },
  "kernelspec": {
   "display_name": "Python 3",
   "language": "python",
   "name": "python3"
  },
  "language_info": {
   "codemirror_mode": {
    "name": "ipython",
    "version": 3
   },
   "file_extension": ".py",
   "mimetype": "text/x-python",
   "name": "python",
   "nbconvert_exporter": "python",
   "pygments_lexer": "ipython3",
   "version": "3.8.8"
  }
 },
 "nbformat": 4,
 "nbformat_minor": 1
}
