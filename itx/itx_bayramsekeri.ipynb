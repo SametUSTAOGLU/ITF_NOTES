{
 "cells": [
  {
   "cell_type": "markdown",
   "metadata": {
    "id": "OcgDV2Hfe5hP"
   },
   "source": [
    "**QUEST I-** Write a Python program to check if a given positive integer is a power of three."
   ]
  },
  {
   "cell_type": "code",
   "execution_count": 6,
   "metadata": {
    "id": "tibLG4Rue9gx"
   },
   "outputs": [
    {
     "name": "stdout",
     "output_type": "stream",
     "text": [
      "number : 1548798654458487524156658985215748456646\n",
      "1548798654458487524156658985215748456646 is not a power of three.\n"
     ]
    }
   ],
   "source": [
    "n = int(input('number : '))\n",
    "if n % 3 == 0:\n",
    "    print(f'{n} is a power of three.')\n",
    "else:\n",
    "    print(f'{n} is not a power of three.')"
   ]
  },
  {
   "cell_type": "markdown",
   "metadata": {
    "id": "mKB_ADTxezYb"
   },
   "source": [
    "**QUEST II-** Write a Python program to check if a number is a perfect square"
   ]
  },
  {
   "cell_type": "code",
   "execution_count": 16,
   "metadata": {
    "id": "MN3vKIx5W5Gp"
   },
   "outputs": [
    {
     "name": "stdout",
     "output_type": "stream",
     "text": [
      "number : 400\n",
      "400 is a perfect square\n"
     ]
    }
   ],
   "source": [
    "n = int(input('number : '))\n",
    "sq = int(n**0.5)\n",
    "if sq**2 == n:\n",
    "    print(f'{n} is a perfect square')\n",
    "else:\n",
    "    print(f'{n} is not a perfect square')"
   ]
  },
  {
   "cell_type": "markdown",
   "metadata": {
    "id": "J7Xr1ZwLez0k"
   },
   "source": [
    "**QUEST III-** Write a Python program to check if an integer is the power of another integer"
   ]
  },
  {
   "cell_type": "code",
   "execution_count": 19,
   "metadata": {
    "id": "6l5isx17W8bG"
   },
   "outputs": [
    {
     "name": "stdout",
     "output_type": "stream",
     "text": [
      "number : 64\n",
      "64 is the power of 8\n"
     ]
    }
   ],
   "source": [
    "n = int(input('number : '))\n",
    "sq = int(n**0.5)\n",
    "if sq == n**0.5:\n",
    "    print(f'{n} is the power of {sq}')\n",
    "else:\n",
    "    print(f'{n}  is not the power of another integer')"
   ]
  },
  {
   "cell_type": "markdown",
   "metadata": {
    "id": "AUPm3UovfBgH"
   },
   "source": [
    "**QUEST IV-** Write a Python program to find the single number in a list that doesn't occur twice."
   ]
  },
  {
   "cell_type": "code",
   "execution_count": null,
   "metadata": {
    "id": "U9SwROgLW_dh"
   },
   "outputs": [],
   "source": []
  },
  {
   "cell_type": "markdown",
   "metadata": {
    "id": "lWX3iqvqfBul"
   },
   "source": [
    "**QUEST V-** Write a Python program to find the length of the last word."
   ]
  },
  {
   "cell_type": "code",
   "execution_count": null,
   "metadata": {
    "id": "wUvVM3FGXCea"
   },
   "outputs": [],
   "source": []
  },
  {
   "cell_type": "markdown",
   "metadata": {
    "id": "AJdyhRwYfB9V"
   },
   "source": [
    "**QUEST VI-** Print the two lists given with their sequence numbers\n",
    "\n",
    "\n",
    "\n",
    "```\n",
    "Countries=[\"Turkey\",\"Italy\",\"Spain\",\"Portugal\",\"France\"]\n",
    "Capitals=[\"Ankara\",\"Rome\",\"Madrid\",\"Lisbon\",\"Paris\"]```\n",
    "\n",
    "Expected output:0 Turkey Ankara\n",
    "\n"
   ]
  },
  {
   "cell_type": "code",
   "execution_count": null,
   "metadata": {
    "id": "KtGsb2o9XM2q"
   },
   "outputs": [],
   "source": []
  },
  {
   "cell_type": "markdown",
   "metadata": {
    "id": "nGAmkE2yfCLV"
   },
   "source": [
    "**QUEST VII-** The Fibonacci sequence is a series of numbers where a number is the addition of the last two numbers, starting with 0, and 1.\n",
    "\n",
    "The Fibonacci Sequence: 0, 1, 1, 2, 3, 5, 8, 13, 21, 34, 55…\n",
    "\n",
    "Written as a rule, the expression is:\n",
    "\n",
    "Xn = Xn-1 + Xn-2\n",
    "\n",
    "Write a Python program to find the Fibonacci number corresponding to the sequence number entered by the user"
   ]
  },
  {
   "cell_type": "code",
   "execution_count": null,
   "metadata": {
    "id": "iAyhKjVPXReD"
   },
   "outputs": [],
   "source": []
  },
  {
   "cell_type": "markdown",
   "metadata": {
    "id": "kXmgBPN2fCZq"
   },
   "source": [
    "**QUEST VIII-** Write a Python script to generate and print a dictionary that contains a number (between 1 and n) in the form (x, x*x)\n",
    "\n",
    "Sample Output: {1: 1, 2: 4, 3: 9, 4: 16}"
   ]
  },
  {
   "cell_type": "code",
   "execution_count": null,
   "metadata": {
    "id": "SPkDXBy8XTpJ"
   },
   "outputs": [],
   "source": []
  },
  {
   "cell_type": "markdown",
   "metadata": {
    "id": "jzTA0O7_tFHW"
   },
   "source": [
    "**QUEST IX-** Write a Python program to construct the following pattern, using a nested for loop\n",
    "\n",
    "Expected output\n",
    "\n",
    "\n",
    "```\n",
    "+\n",
    "++\n",
    "+++\n",
    "++++\n",
    "+++++\n",
    "++++\n",
    "+++\n",
    "++\n",
    "+\n",
    "```\n",
    "\n"
   ]
  },
  {
   "cell_type": "code",
   "execution_count": null,
   "metadata": {
    "id": "HXMmrx96XYRk"
   },
   "outputs": [],
   "source": []
  },
  {
   "cell_type": "markdown",
   "metadata": {
    "id": "pItGkzzJtFh1"
   },
   "source": [
    "**QUEST X-** Write a Python program to calculate a dog's age in dog's years.\n",
    "* Note:  \n",
    "\n",
    "*   For the first two years, a dog year is equal to 10.5 human years.\n",
    "*   After that, each dog year equals 4 human years\n"
   ]
  },
  {
   "cell_type": "code",
   "execution_count": null,
   "metadata": {
    "id": "DxMlJJv2Xa1d"
   },
   "outputs": [],
   "source": []
  },
  {
   "cell_type": "markdown",
   "metadata": {
    "id": "sIxMzDg-tF17"
   },
   "source": [
    "**QUEST XI-** Write a Python program to display the sign of the Chinese Zodiac for given year in which you were born  "
   ]
  },
  {
   "cell_type": "code",
   "execution_count": null,
   "metadata": {
    "id": "rJXeYsSsXecb"
   },
   "outputs": [],
   "source": []
  },
  {
   "cell_type": "markdown",
   "metadata": {
    "id": "0DUs3VV4tGGT"
   },
   "source": [
    "***QUEST XII-*** Write a Python program to construct the following pattern, using a nested loop number\n",
    "\n",
    "Expected output\n",
    "\n",
    "\n",
    "```\n",
    "1\n",
    "22\n",
    "333\n",
    "4444\n",
    "55555\n",
    "666666\n",
    "7777777\n",
    "88888888\n",
    "999999999\n",
    "```\n",
    "\n",
    "\n",
    "\n"
   ]
  },
  {
   "cell_type": "code",
   "execution_count": null,
   "metadata": {
    "id": "ZQUuo7lIXpob"
   },
   "outputs": [],
   "source": []
  },
  {
   "cell_type": "markdown",
   "metadata": {
    "id": "1lgqGDAztGVK"
   },
   "source": [
    "**QUEST XIII-** Write a Python function to find the Max of three numbers"
   ]
  },
  {
   "cell_type": "code",
   "execution_count": null,
   "metadata": {
    "id": "r9ScY57mXsA5"
   },
   "outputs": [],
   "source": []
  },
  {
   "cell_type": "markdown",
   "metadata": {
    "id": "E5-LJf-0tGic"
   },
   "source": [
    "**QUEST XIV-** Write a Python function to multiply all the numbers in a list"
   ]
  },
  {
   "cell_type": "code",
   "execution_count": null,
   "metadata": {
    "id": "fKi6MBeSXxBi"
   },
   "outputs": [],
   "source": []
  },
  {
   "cell_type": "markdown",
   "metadata": {
    "id": "aZHCvZSatGu6"
   },
   "source": [
    "**QUEST XV-** Write a Python program to reverse a string.\n",
    "\n",
    "\n",
    "`Sample String : \"1234abcd\"`\n",
    "\n",
    "`Expected Output : \"dcba4321\"`\n"
   ]
  },
  {
   "cell_type": "code",
   "execution_count": null,
   "metadata": {
    "id": "ifJdRf0RYM40"
   },
   "outputs": [],
   "source": []
  },
  {
   "cell_type": "markdown",
   "metadata": {
    "id": "m0-vkmKMtG6r"
   },
   "source": [
    "**QUEST XVI-** Write a Python function that takes a list and returns a new list with unique elements of the first list\n",
    "\n",
    "For Example:\n",
    "\n",
    "`list1 = [1,2,3,3,3,3,4]`\n",
    "\n",
    "expected output:\n",
    "\n",
    "`[1, 2, 3, 4, 5]`"
   ]
  },
  {
   "cell_type": "code",
   "execution_count": null,
   "metadata": {
    "id": "7u_Q5F3OYwms"
   },
   "outputs": [],
   "source": []
  },
  {
   "cell_type": "markdown",
   "metadata": {
    "id": "JUc61KibF4CK"
   },
   "source": [
    "**QUEST XVII-** Write a Python program to print the odd numbers from a given list"
   ]
  },
  {
   "cell_type": "code",
   "execution_count": null,
   "metadata": {
    "id": "tWiRkDzcY1Fx"
   },
   "outputs": [],
   "source": []
  },
  {
   "cell_type": "markdown",
   "metadata": {
    "id": "Ey1ptF1CGY9c"
   },
   "source": [
    "**QUEST XVIII-** Write a program which will find all such numbers which are divisible by 7 but are not a multiple of 5,\n",
    "between 2000 and 3200 (both included)\n",
    "\n"
   ]
  },
  {
   "cell_type": "code",
   "execution_count": null,
   "metadata": {
    "id": "e5FtabpLY6b_"
   },
   "outputs": [],
   "source": []
  },
  {
   "cell_type": "markdown",
   "metadata": {
    "id": "0ha7u8X0HXA1"
   },
   "source": [
    "**QUEST XIX-** Write a program which can compute the factorial of a given numbers"
   ]
  },
  {
   "cell_type": "code",
   "execution_count": null,
   "metadata": {
    "id": "tdU71qxWY9Nq"
   },
   "outputs": [],
   "source": []
  },
  {
   "cell_type": "markdown",
   "metadata": {
    "id": "gavXsMOUHXRF"
   },
   "source": [
    "**QUEST XX-** Write a program to find if a three-digit number is an Armstrong Number.\n",
    "\n",
    "A positive integer is called an Armstrong number of order n if\n",
    "\n",
    "\n",
    "```\n",
    "abcd... = an + bn + cn + dn + ...\n",
    "```\n",
    "In case of an Armstrong number of 3 digits, the sum of cubes of each digit is equal to the number itself. For example:\n",
    "\n",
    "\n",
    "\n",
    "```\n",
    "153 = 1*1*1 + 5*5*5 + 3*3*3  // 153 is an Armstrong number.\n",
    "```\n",
    "\n",
    "\n",
    "\n"
   ]
  },
  {
   "cell_type": "code",
   "execution_count": null,
   "metadata": {
    "id": "cUiW_aPyZAtT"
   },
   "outputs": [],
   "source": []
  },
  {
   "cell_type": "markdown",
   "metadata": {
    "id": "Pk6HONx2HXfi"
   },
   "source": [
    "**QUEST XXI-** Write a program to find the numbers divisible by another number and display it.\n",
    "\n",
    "For examples: \n",
    "\n",
    "`list1 = [12, 65, 54, 39, 102, 339, 221] `\n",
    "\n",
    "let's say we are looking to see if the elements in the list are divisible by 13\n",
    "\n",
    "expected output:\n",
    "\n",
    "`Numbers divisible by 13 are [65, 39, 221]`"
   ]
  },
  {
   "cell_type": "code",
   "execution_count": null,
   "metadata": {
    "id": "1Tbg16UsZDMW"
   },
   "outputs": [],
   "source": []
  },
  {
   "cell_type": "markdown",
   "metadata": {
    "id": "qSVlom1qHXtd"
   },
   "source": [
    "**QUEST XXII-** Write a program to sort the words in alphabetic order and display it\n",
    "\n",
    "For examples:\n",
    "\n",
    "`str1 = \"happy holidays for all clarusway members\"`\n",
    "\n",
    "expected output:\n",
    "\n",
    "```\n",
    "all\n",
    "clarusway\n",
    "for\n",
    "happy\n",
    "holidays\n",
    "members\n",
    "```"
   ]
  },
  {
   "cell_type": "code",
   "execution_count": null,
   "metadata": {
    "id": "saQ_I7SxZHc_"
   },
   "outputs": [],
   "source": []
  },
  {
   "cell_type": "markdown",
   "metadata": {
    "id": "sDB3Gx5uHX83"
   },
   "source": [
    "**QUEST XXIII-** Write a program to sort a dictionary by value\n",
    "\n",
    "For examples:\n",
    "\n",
    "`dict1 = {7:4, 13:6, 6:9}`\n",
    "\n",
    "expected output:\n",
    "\n",
    "`{7: 4, 13: 6, 6: 9}`"
   ]
  },
  {
   "cell_type": "code",
   "execution_count": null,
   "metadata": {
    "id": "8L-6hqTbZKKU"
   },
   "outputs": [],
   "source": []
  },
  {
   "cell_type": "markdown",
   "metadata": {
    "id": "xSN9j162LWR2"
   },
   "source": [
    "**QUEST XXIV-** Write a program that takes a string. If the string is all uppercase characters, convert it to lowercase\n",
    "\n",
    "\n",
    "`\"UPS.. SORRY I FORGET CAPS LOCK ON\"` ➞ `\"sorry i forgot caps lock on\"`"
   ]
  },
  {
   "cell_type": "code",
   "execution_count": null,
   "metadata": {
    "id": "WlEpAUpYZMEV"
   },
   "outputs": [],
   "source": []
  },
  {
   "cell_type": "markdown",
   "metadata": {
    "id": "5HP1tsdTbo3o"
   },
   "source": [
    "**QUEST XXV-** Write a Python program to construct the following pattern\n",
    "\n",
    "```\n",
    "1 \n",
    "1 2 \n",
    "1 2 3 \n",
    "1 2 3 4 \n",
    "1 2 3 4 5\n",
    "```\n",
    "\n"
   ]
  },
  {
   "cell_type": "code",
   "execution_count": null,
   "metadata": {
    "id": "FyhzrS5hkHzZ"
   },
   "outputs": [],
   "source": []
  },
  {
   "cell_type": "markdown",
   "metadata": {
    "id": "dX1hRkjEcWUf"
   },
   "source": [
    "**QUEST XXVI-** Write a program to accept number from user and calculate the sum of all number from 1 to a given number\n",
    "\n",
    "For example, if user entered 10 the output should be 55\n",
    "\n",
    "(10+9+8+7+6+5+4+3+2+1 = 55)"
   ]
  },
  {
   "cell_type": "code",
   "execution_count": null,
   "metadata": {
    "id": "J5vRp2tPkLsJ"
   },
   "outputs": [],
   "source": []
  },
  {
   "cell_type": "markdown",
   "metadata": {
    "id": "PqFTRA8ncWqr"
   },
   "source": [
    "**QUEST XXVII-** Write a Python program to construct the following pattern\n",
    "\n",
    "```\n",
    "5 4 3 2 1 \n",
    "4 3 2 1 \n",
    "3 2 1 \n",
    "2 1 \n",
    "1\n",
    "```\n",
    "\n"
   ]
  },
  {
   "cell_type": "code",
   "execution_count": null,
   "metadata": {
    "id": "IYtUqZ9jkNuc"
   },
   "outputs": [],
   "source": []
  },
  {
   "cell_type": "markdown",
   "metadata": {
    "id": "Df6oQOuWcW5y"
   },
   "source": [
    "**QUEST XXVIII-** Write a program which display the cube of the number up to a given integer\n",
    "\n",
    "For Example: \n",
    "\n",
    "`num1 = 6`\n",
    "\n",
    "Expected output:\n",
    "\n",
    "```\n",
    "Current Number is : 1  and the cube is 1\n",
    "Current Number is : 2  and the cube is 8\n",
    "Current Number is : 3  and the cube is 27\n",
    "Current Number is : 4  and the cube is 64\n",
    "Current Number is : 5  and the cube is 125\n",
    "Current Number is : 6  and the cube is 216\n",
    "```\n",
    "\n"
   ]
  },
  {
   "cell_type": "code",
   "execution_count": null,
   "metadata": {
    "id": "BS2cdYAikPk7"
   },
   "outputs": [],
   "source": []
  },
  {
   "cell_type": "markdown",
   "metadata": {
    "id": "pnYxB3zYeZcl"
   },
   "source": [
    "**QUEST XXIX-** Write a program to split a given string on hyphens into several substrings and display each substring\n",
    "\n",
    "For Examples :\n",
    "\n",
    "`str1 = \"Emre-is-a-data-scientist\"`\n",
    "\n",
    "Expected output:\n",
    "```\n",
    "Emre\n",
    "is\n",
    "a\n",
    "data\n",
    "scientist\n",
    "```\n",
    "\n",
    "\n",
    "\n"
   ]
  },
  {
   "cell_type": "code",
   "execution_count": null,
   "metadata": {
    "id": "5dy8eHw_kRk1"
   },
   "outputs": [],
   "source": []
  },
  {
   "cell_type": "markdown",
   "metadata": {
    "id": "9FXSbm6IeZ4i"
   },
   "source": [
    "**QUEST XXX-** Write a function that prints the salary and employee name from the user\n",
    "\n",
    "For Example:\n",
    "```\n",
    "name: emre\n",
    "\n",
    "price: 5000\n",
    "Employee emre salary is: $ 5000\n",
    "```\n",
    "\n"
   ]
  },
  {
   "cell_type": "code",
   "execution_count": null,
   "metadata": {
    "id": "V9-8MVb5kTvl"
   },
   "outputs": [],
   "source": []
  }
 ],
 "metadata": {
  "colab": {
   "collapsed_sections": [],
   "name": "itx_bayramsekeri.ipynb",
   "provenance": []
  },
  "kernelspec": {
   "display_name": "Python 3",
   "language": "python",
   "name": "python3"
  },
  "language_info": {
   "codemirror_mode": {
    "name": "ipython",
    "version": 3
   },
   "file_extension": ".py",
   "mimetype": "text/x-python",
   "name": "python",
   "nbconvert_exporter": "python",
   "pygments_lexer": "ipython3",
   "version": "3.8.8"
  }
 },
 "nbformat": 4,
 "nbformat_minor": 1
}
