{
 "cells": [
  {
   "cell_type": "markdown",
   "metadata": {
    "id": "OcgDV2Hfe5hP"
   },
   "source": [
    "**QUEST I-** Write a Python program to check if a given positive integer is a power of three."
   ]
  },
  {
   "cell_type": "code",
   "execution_count": null,
   "metadata": {
    "id": "tibLG4Rue9gx"
   },
   "outputs": [],
   "source": [
    "n = int(input('number : '))\n",
    "if n % 3 == 0:\n",
    "    print(f'{n} is a power of three.')\n",
    "else:\n",
    "    print(f'{n} is not a power of three.')"
   ]
  },
  {
   "cell_type": "markdown",
   "metadata": {
    "id": "mKB_ADTxezYb"
   },
   "source": [
    "**QUEST II-** Write a Python program to check if a number is a perfect square"
   ]
  },
  {
   "cell_type": "code",
   "execution_count": null,
   "metadata": {
    "id": "MN3vKIx5W5Gp"
   },
   "outputs": [],
   "source": [
    "n = int(input('number : '))\n",
    "sq = int(n**0.5)\n",
    "if sq**2 == n:\n",
    "    print(f'{n} is a perfect square')\n",
    "else:\n",
    "    print(f'{n} is not a perfect square')"
   ]
  },
  {
   "cell_type": "markdown",
   "metadata": {
    "id": "J7Xr1ZwLez0k"
   },
   "source": [
    "# **QUEST III-** Write a Python program to check if an integer is the power of another integer"
   ]
  },
  {
   "cell_type": "code",
   "execution_count": null,
   "metadata": {
    "id": "6l5isx17W8bG"
   },
   "outputs": [],
   "source": [
    "def pow (a , b):\n",
    "    while a % b ==0:\n",
    "        a /= b\n",
    "    return a == 1"
   ]
  },
  {
   "cell_type": "code",
   "execution_count": null,
   "metadata": {},
   "outputs": [],
   "source": [
    "pow(125, 5)"
   ]
  },
  {
   "cell_type": "markdown",
   "metadata": {
    "id": "AUPm3UovfBgH"
   },
   "source": [
    "**QUEST IV-** Write a Python program to find the single number in a list that doesn't occur twice."
   ]
  },
  {
   "cell_type": "code",
   "execution_count": null,
   "metadata": {
    "id": "U9SwROgLW_dh"
   },
   "outputs": [],
   "source": [
    "ls = [1, 2, 3, 4, 5, 6, 7, 3]\n",
    "ls1 = []\n",
    "for i in ls:\n",
    "    if i % 2 != 0:\n",
    "        if ls.count(i) == 1:\n",
    "            ls1.append(i)\n",
    "        \n",
    "ls1"
   ]
  },
  {
   "cell_type": "markdown",
   "metadata": {
    "id": "lWX3iqvqfBul"
   },
   "source": [
    "**QUEST V-** Write a Python program to find the length of the last word."
   ]
  },
  {
   "cell_type": "code",
   "execution_count": null,
   "metadata": {
    "id": "wUvVM3FGXCea"
   },
   "outputs": [],
   "source": [
    "sentence = input('give me a sentence please! : ').strip().strip('.?!;,')\n",
    "print(f'the length of the last word: {len(sentence.split()[-1])}')"
   ]
  },
  {
   "cell_type": "markdown",
   "metadata": {
    "id": "AJdyhRwYfB9V"
   },
   "source": [
    "**QUEST VI-** Print the two lists given with their sequence numbers\n",
    "\n",
    "\n",
    "\n",
    "```\n",
    "Countries=[\"Turkey\",\"Italy\",\"Spain\",\"Portugal\",\"France\"]\n",
    "Capitals=[\"Ankara\",\"Rome\",\"Madrid\",\"Lisbon\",\"Paris\"]```\n",
    "\n",
    "Expected output:0 Turkey Ankara\n",
    "\n"
   ]
  },
  {
   "cell_type": "code",
   "execution_count": null,
   "metadata": {
    "id": "KtGsb2o9XM2q",
    "scrolled": true
   },
   "outputs": [],
   "source": [
    "Countries=[\"Turkey\",\"Italy\",\"Spain\",\"Portugal\",\"France\"]\n",
    "Capitals=[\"Ankara\",\"Rome\",\"Madrid\",\"Lisbon\",\"Paris\"]\n",
    "\n",
    "n = 0\n",
    "while n < len(Countries):\n",
    "    print(n, Countries[n], Capitals[n])\n",
    "    n+=1"
   ]
  },
  {
   "cell_type": "markdown",
   "metadata": {
    "id": "nGAmkE2yfCLV"
   },
   "source": [
    "**QUEST VII-** The Fibonacci sequence is a series of numbers where a number is the addition of the last two numbers, starting with 0, and 1.\n",
    "\n",
    "The Fibonacci Sequence: 0, 1, 1, 2, 3, 5, 8, 13, 21, 34, 55…\n",
    "\n",
    "Written as a rule, the expression is:\n",
    "\n",
    "Xn = Xn-1 + Xn-2\n",
    "\n",
    "Write a Python program to find the Fibonacci number corresponding to the sequence number entered by the user"
   ]
  },
  {
   "cell_type": "code",
   "execution_count": null,
   "metadata": {
    "id": "iAyhKjVPXReD",
    "scrolled": true
   },
   "outputs": [],
   "source": [
    "n = int(input('number: '))\n",
    "n1 = n\n",
    "ls = [0, 1]\n",
    "while n != 0:\n",
    "    ls.append(ls[-1]+ls[-2])\n",
    "    n-=1\n",
    "\n",
    "print(f'Fibonacci number corresponding to the sequence {n1} : {ls[-1]}')"
   ]
  },
  {
   "cell_type": "markdown",
   "metadata": {
    "id": "kXmgBPN2fCZq"
   },
   "source": [
    "**QUEST VIII-** Write a Python script to generate and print a dictionary that contains a number (between 1 and n) in the form (x, x*x)\n",
    "\n",
    "Sample Output: {1: 1, 2: 4, 3: 9, 4: 16}"
   ]
  },
  {
   "cell_type": "code",
   "execution_count": null,
   "metadata": {
    "id": "SPkDXBy8XTpJ"
   },
   "outputs": [],
   "source": [
    "n = int(input())\n",
    "a = 1\n",
    "dic = {}\n",
    "while a < n+1:\n",
    "    dic[a]=a**2\n",
    "    a+=1\n",
    "dic"
   ]
  },
  {
   "cell_type": "code",
   "execution_count": null,
   "metadata": {},
   "outputs": [],
   "source": [
    "type(dic)"
   ]
  },
  {
   "cell_type": "markdown",
   "metadata": {
    "id": "jzTA0O7_tFHW"
   },
   "source": [
    "**QUEST IX-** Write a Python program to construct the following pattern, using a nested for loop\n",
    "\n",
    "Expected output\n",
    "\n",
    "\n",
    "```\n",
    "+\n",
    "++\n",
    "+++\n",
    "++++\n",
    "+++++\n",
    "++++\n",
    "+++\n",
    "++\n",
    "+\n",
    "```\n",
    "\n"
   ]
  },
  {
   "cell_type": "code",
   "execution_count": null,
   "metadata": {
    "id": "HXMmrx96XYRk"
   },
   "outputs": [],
   "source": [
    "n = int(input())\n",
    "ch = ''\n",
    "for i in range( n*2):\n",
    "    if i < n:\n",
    "        ch = ch+'*'\n",
    "        print(ch)\n",
    "    else:\n",
    "        ch = ch[:-1]\n",
    "        print(ch)"
   ]
  },
  {
   "cell_type": "markdown",
   "metadata": {
    "id": "pItGkzzJtFh1"
   },
   "source": [
    "**QUEST X-** Write a Python program to calculate a dog's age in dog's years.\n",
    "* Note:  \n",
    "\n",
    "*   For the first two years, a dog year is equal to 10.5 human years.\n",
    "*   After that, each dog year equals 4 human years\n"
   ]
  },
  {
   "cell_type": "code",
   "execution_count": null,
   "metadata": {
    "id": "DxMlJJv2Xa1d"
   },
   "outputs": [],
   "source": [
    "age = float(input('Enter age of your dog: '))\n",
    "if age < 2:\n",
    "    print(f\"dog's years: {10.5*age}\")\n",
    "else:\n",
    "    print(f\"dog's years: {21+(age-2)*4}\")"
   ]
  },
  {
   "cell_type": "markdown",
   "metadata": {
    "id": "sIxMzDg-tF17"
   },
   "source": [
    "##### **QUEST XI-** Write a Python program to display the sign of the Chinese Zodiac for given year in which you were born  "
   ]
  },
  {
   "cell_type": "code",
   "execution_count": null,
   "metadata": {
    "id": "rJXeYsSsXecb"
   },
   "outputs": [],
   "source": []
  },
  {
   "cell_type": "markdown",
   "metadata": {
    "id": "0DUs3VV4tGGT"
   },
   "source": [
    "***QUEST XII-*** Write a Python program to construct the following pattern, using a nested loop number\n",
    "\n",
    "Expected output\n",
    "\n",
    "\n",
    "```\n",
    "1\n",
    "22\n",
    "333\n",
    "4444\n",
    "55555\n",
    "666666\n",
    "7777777\n",
    "88888888\n",
    "999999999\n",
    "```\n",
    "\n",
    "\n",
    "\n"
   ]
  },
  {
   "cell_type": "code",
   "execution_count": null,
   "metadata": {
    "id": "ZQUuo7lIXpob"
   },
   "outputs": [],
   "source": [
    "n = int(input('Give me a number please: '))\n",
    "for i in range(1, n+1):\n",
    "    print(i*str(i))\n",
    "     "
   ]
  },
  {
   "cell_type": "markdown",
   "metadata": {
    "id": "1lgqGDAztGVK"
   },
   "source": [
    "**QUEST XIII-** Write a Python function to find the Max of three numbers"
   ]
  },
  {
   "cell_type": "code",
   "execution_count": null,
   "metadata": {
    "id": "r9ScY57mXsA5"
   },
   "outputs": [],
   "source": [
    "ls = []\n",
    "print('Give me three numbers please ')\n",
    "for i in range(3):\n",
    "    nums = int(input(f'number{i+1} : '))\n",
    "    ls.append(nums)\n",
    "print(F'Max of three numbers: {max(ls)}')"
   ]
  },
  {
   "cell_type": "markdown",
   "metadata": {
    "id": "E5-LJf-0tGic"
   },
   "source": [
    "**QUEST XIV-** Write a Python function to multiply all the numbers in a list"
   ]
  },
  {
   "cell_type": "code",
   "execution_count": null,
   "metadata": {
    "id": "fKi6MBeSXxBi"
   },
   "outputs": [],
   "source": [
    "ls = [1, 2, 3, 4, 5, 6]\n",
    "num = 1\n",
    "for i in ls:\n",
    "    num *=i\n",
    "print(num)"
   ]
  },
  {
   "cell_type": "markdown",
   "metadata": {
    "id": "aZHCvZSatGu6"
   },
   "source": [
    "**QUEST XV-** Write a Python program to reverse a string.\n",
    "\n",
    "\n",
    "`Sample String : \"1234abcd\"`\n",
    "\n",
    "`Expected Output : \"dcba4321\"`\n"
   ]
  },
  {
   "cell_type": "code",
   "execution_count": null,
   "metadata": {
    "id": "ifJdRf0RYM40"
   },
   "outputs": [],
   "source": [
    "s = input()\n",
    "s1 = ''\n",
    "ls = []\n",
    "for i in range(1, len(s)+1):\n",
    "    s1+=s[-i]\n",
    "    \n",
    "s1"
   ]
  },
  {
   "cell_type": "code",
   "execution_count": null,
   "metadata": {},
   "outputs": [],
   "source": [
    "set1 = {1, 2, 3}\n",
    "set2 = set1\n",
    "set2.add(4)\n",
    "print(set1)"
   ]
  },
  {
   "cell_type": "code",
   "execution_count": null,
   "metadata": {},
   "outputs": [],
   "source": [
    "set1"
   ]
  },
  {
   "cell_type": "code",
   "execution_count": null,
   "metadata": {},
   "outputs": [],
   "source": [
    "x = 1\n",
    "y = x\n",
    "x = 2\n",
    "y"
   ]
  },
  {
   "cell_type": "code",
   "execution_count": null,
   "metadata": {},
   "outputs": [],
   "source": [
    "list1 = [1,2,3,3,3,3,4]\n",
    "list2 = list1.copy()\n",
    "print(list2.append(5))"
   ]
  },
  {
   "cell_type": "markdown",
   "metadata": {
    "id": "m0-vkmKMtG6r"
   },
   "source": [
    "**QUEST XVI-** Write a Python function that takes a list and returns a new list with unique elements of the first list\n",
    "\n",
    "For Example:\n",
    "\n",
    "`list1 = [1,2,3,3,3,3,4]`\n",
    "\n",
    "expected output:\n",
    "\n",
    "`[1, 2, 3, 4, 5]`"
   ]
  },
  {
   "cell_type": "code",
   "execution_count": null,
   "metadata": {
    "id": "7u_Q5F3OYwms"
   },
   "outputs": [],
   "source": [
    "def unique_list(ls):\n",
    "    return list(set(ls))"
   ]
  },
  {
   "cell_type": "code",
   "execution_count": null,
   "metadata": {},
   "outputs": [],
   "source": [
    "list1 = [1,2,3,3,3,3,4,4,4,4]\n",
    "unique_list(list1)"
   ]
  },
  {
   "cell_type": "markdown",
   "metadata": {
    "id": "JUc61KibF4CK"
   },
   "source": [
    "**QUEST XVII-** Write a Python program to print the odd numbers from a given list"
   ]
  },
  {
   "cell_type": "code",
   "execution_count": null,
   "metadata": {
    "id": "tWiRkDzcY1Fx",
    "scrolled": true
   },
   "outputs": [],
   "source": [
    "ls = [1, 3, 4, 5, 6, 43, 77, 88, 22]\n",
    "ls1 = []\n",
    "for i in ls:\n",
    "    if i % 2 != 0:\n",
    "        ls1.append(i)\n",
    "ls1"
   ]
  },
  {
   "cell_type": "code",
   "execution_count": null,
   "metadata": {},
   "outputs": [],
   "source": [
    "ls = [1, 3, 4, 5, 6, 43, 77, 88, 22]\n",
    "ls1 = [i for i in ls if i % 2 != 0]\n",
    "ls1"
   ]
  },
  {
   "cell_type": "markdown",
   "metadata": {
    "id": "Ey1ptF1CGY9c"
   },
   "source": [
    "**QUEST XVIII-** Write a program which will find all such numbers which are divisible by 7 but are not a multiple of 5,\n",
    "between 2000 and 3200 (both included)\n",
    "\n"
   ]
  },
  {
   "cell_type": "code",
   "execution_count": null,
   "metadata": {
    "id": "e5FtabpLY6b_"
   },
   "outputs": [],
   "source": [
    "for i in range(2000, 3201):\n",
    "    if i%7 == 0 and i%5 != 0:\n",
    "        print(i)"
   ]
  },
  {
   "cell_type": "markdown",
   "metadata": {
    "id": "0ha7u8X0HXA1"
   },
   "source": [
    "**QUEST XIX-** Write a program which can compute the factorial of a given numbers"
   ]
  },
  {
   "cell_type": "code",
   "execution_count": null,
   "metadata": {
    "id": "tdU71qxWY9Nq"
   },
   "outputs": [],
   "source": [
    "n = int(input('Give me a number: '))\n",
    "a = 1\n",
    "result = 1\n",
    "while a < n+1:\n",
    "    result*=a\n",
    "    a+=1\n",
    "print(f'{n}! = {result}')"
   ]
  },
  {
   "cell_type": "code",
   "execution_count": null,
   "metadata": {},
   "outputs": [],
   "source": [
    "import numpy\n",
    "given_number = int(input(\"give a number\"))\n",
    "lista = range(1,given_number+1)\n",
    "print(numpy.prod(lista))"
   ]
  },
  {
   "cell_type": "markdown",
   "metadata": {
    "id": "gavXsMOUHXRF"
   },
   "source": [
    "**QUEST XX-** Write a program to find if a three-digit number is an Armstrong Number.\n",
    "\n",
    "A positive integer is called an Armstrong number of order n if\n",
    "\n",
    "\n",
    "```\n",
    "abcd... = an + bn + cn + dn + ...\n",
    "```\n",
    "In case of an Armstrong number of 3 digits, the sum of cubes of each digit is equal to the number itself. For example:\n",
    "\n",
    "\n",
    "\n",
    "\n",
    "153 = 1*1*1 + 5*5*5 + 3*3*3  // 153 is an Armstrong number.\n",
    "\n",
    "\n",
    "\n"
   ]
  },
  {
   "cell_type": "code",
   "execution_count": null,
   "metadata": {
    "id": "cUiW_aPyZAtT"
   },
   "outputs": [],
   "source": [
    "n = input('Give me a three-digit number: ')\n",
    "if int(n[0])**3 + int(n[1])**3 + int(n[2])**3 == int(n):\n",
    "    print(n, 'is an Armstrong number.')\n",
    "else:\n",
    "    print(n, 'is not an Armstrong number.')"
   ]
  },
  {
   "cell_type": "code",
   "execution_count": null,
   "metadata": {},
   "outputs": [],
   "source": [
    "0**1"
   ]
  },
  {
   "cell_type": "markdown",
   "metadata": {
    "id": "Pk6HONx2HXfi"
   },
   "source": [
    "**QUEST XXI-** Write a program to find the numbers divisible by another number and display it.\n",
    "\n",
    "For examples: \n",
    "\n",
    "`list1 = [12, 65, 54, 39, 102, 339, 221] `\n",
    "\n",
    "let's say we are looking to see if the elements in the list are divisible by 13\n",
    "\n",
    "expected output:\n",
    "\n",
    "`Numbers divisible by 13 are [65, 39, 221]`"
   ]
  },
  {
   "cell_type": "code",
   "execution_count": null,
   "metadata": {
    "id": "1Tbg16UsZDMW"
   },
   "outputs": [],
   "source": [
    "list1 = [12, 65, 54, 39, 102, 339, 221]\n",
    "ls = []\n",
    "n = int(input('Give me a number: '))\n",
    "for i in list1:\n",
    "    if i % n == 0:\n",
    "        ls.append(i)\n",
    "        ls.sort()\n",
    "print(f'Numbers divisible by {n} are {ls}')"
   ]
  },
  {
   "cell_type": "code",
   "execution_count": null,
   "metadata": {},
   "outputs": [],
   "source": [
    "list1 = [12, 65, 54, 39, 102, 339, 221]\n",
    "a = int(input('please give division number: '))\n",
    "result = list(filter(lambda x: x % a == 0, list1))\n",
    "print(f\"Numbers divisible by {a} are\",result)"
   ]
  },
  {
   "cell_type": "markdown",
   "metadata": {
    "id": "qSVlom1qHXtd"
   },
   "source": [
    "**QUEST XXII-** Write a program to sort the words in alphabetic order and display it\n",
    "\n",
    "For examples:\n",
    "\n",
    "`str1 = \"happy holidays for all clarusway members\"`\n",
    "\n",
    "expected output:\n",
    "\n",
    "```\n",
    "all\n",
    "clarusway\n",
    "for\n",
    "happy\n",
    "holidays\n",
    "members\n",
    "```"
   ]
  },
  {
   "cell_type": "code",
   "execution_count": null,
   "metadata": {
    "id": "saQ_I7SxZHc_",
    "scrolled": false
   },
   "outputs": [],
   "source": [
    "s = input('Give me a sentence: ').strip().lower()\n",
    "ls = s.split()\n",
    "ls.sort()\n",
    "for i in ls:\n",
    "    print(i)\n",
    "print(type(ls))"
   ]
  },
  {
   "cell_type": "code",
   "execution_count": null,
   "metadata": {},
   "outputs": [],
   "source": [
    "num_list = [12, 65, 54, 39, 102, 339, 221]\n",
    "div_num = int(input(\"Enter a number: \"))\n",
    "new_numlist = []\n",
    "for i in num_list:\n",
    "    if i % div_num == 0:\n",
    "        new_numlist.append(i)\n",
    "        new_numlist.sort()\n",
    "print(f\"Numbers divisible by {div_num} are {new_numlist}\")"
   ]
  },
  {
   "cell_type": "markdown",
   "metadata": {
    "id": "sDB3Gx5uHX83"
   },
   "source": [
    "**QUEST XXIII-** Write a program to sort a dictionary by value\n",
    "\n",
    "For examples:\n",
    "\n",
    "`dict1 = {7:4, 13:6, 6:9}`\n",
    "\n",
    "expected output:\n",
    "\n",
    "`{7: 4, 13: 6, 6: 9}`"
   ]
  },
  {
   "cell_type": "code",
   "execution_count": null,
   "metadata": {},
   "outputs": [],
   "source": [
    "d = {7:55, 13:44, 6:99, 'a':22, 'b':66}\n",
    "ls = list(d.values())\n",
    "ls2 = []\n",
    "for i in range(len(d)):\n",
    "    min_ls = min(ls)\n",
    "    ls.remove(min_ls)\n",
    "    for j in d.items():\n",
    "        if j[1] == min_ls:\n",
    "            ls2.append(j)\n",
    "dict(ls2)"
   ]
  },
  {
   "cell_type": "code",
   "execution_count": null,
   "metadata": {},
   "outputs": [],
   "source": [
    "dict1 = {7:4, 13:6, 6:9}\n",
    "dict2 = dict([(value,key) for key, value in dict1.items()])\n",
    "dict(sorted(dict2.items()))"
   ]
  },
  {
   "cell_type": "code",
   "execution_count": null,
   "metadata": {
    "id": "8L-6hqTbZKKU"
   },
   "outputs": [],
   "source": [
    "dict1 = {7:55, 13:44, 6:99}\n",
    "dict(sorted(dict1.items(), key = lambda a : a[1]))"
   ]
  },
  {
   "cell_type": "markdown",
   "metadata": {
    "id": "xSN9j162LWR2"
   },
   "source": [
    "**QUEST XXIV-** Write a program that takes a string. If the string is all uppercase characters, convert it to lowercase\n",
    "\n",
    "\n",
    "`\"UPS.. SORRY I FORGET CAPS LOCK ON\"` ➞ `\"sorry i forgot caps lock on\"`"
   ]
  },
  {
   "cell_type": "code",
   "execution_count": null,
   "metadata": {
    "id": "WlEpAUpYZMEV"
   },
   "outputs": [],
   "source": [
    "s = input('Give me a sentence: ').strip().lower()\n",
    "s"
   ]
  },
  {
   "cell_type": "code",
   "execution_count": null,
   "metadata": {},
   "outputs": [],
   "source": [
    "str1 = \"UPS.. SORRY I FORGET CAPS LOCK ON\"\n",
    "print(str1)\n",
    "str2 =\"\"\n",
    "for i in str1:\n",
    "    if ord(i)>= 97 and ord(i)<= 122:\n",
    "        print(\"hepsi büyük girilmemiş\")\n",
    "        str2 = \"\"\n",
    "        break\n",
    "    else:\n",
    "        str2 += i.lower()\n",
    "        print(i)\n",
    "print(str2)\n"
   ]
  },
  {
   "cell_type": "code",
   "execution_count": null,
   "metadata": {},
   "outputs": [],
   "source": [
    "txt1 = input('say something ') \n",
    "def lower1(txt):\n",
    "  if txt.isupper():\n",
    "    return txt.lower().capitalize()\n",
    "  else:\n",
    "    return txt\n",
    "print(lower1(txt1))"
   ]
  },
  {
   "cell_type": "markdown",
   "metadata": {
    "id": "5HP1tsdTbo3o"
   },
   "source": [
    "**QUEST XXV-** Write a Python program to construct the following pattern\n",
    "\n",
    "```\n",
    "1 \n",
    "1 2 \n",
    "1 2 3 \n",
    "1 2 3 4 \n",
    "1 2 3 4 5\n",
    "```\n",
    "\n"
   ]
  },
  {
   "cell_type": "code",
   "execution_count": null,
   "metadata": {
    "id": "FyhzrS5hkHzZ",
    "scrolled": true
   },
   "outputs": [],
   "source": [
    "n = int(input('Give me a number: '))\n",
    "a = 1\n",
    "while a < n+1:\n",
    "    for i in range(1, a+1):\n",
    "        print(i, end = \" \")\n",
    "    print()\n",
    "    a+=1"
   ]
  },
  {
   "cell_type": "code",
   "execution_count": null,
   "metadata": {},
   "outputs": [],
   "source": [
    "n = int(input('Give me a number: '))\n",
    "for i in range(1, n+1):\n",
    "    print(*range(1, i+1))"
   ]
  },
  {
   "cell_type": "markdown",
   "metadata": {
    "id": "dX1hRkjEcWUf"
   },
   "source": [
    "**QUEST XXVI-** Write a program to accept number from user and calculate the sum of all number from 1 to a given number\n",
    "\n",
    "For example, if user entered 10 the output should be 55\n",
    "\n",
    "(10+9+8+7+6+5+4+3+2+1 = 55)"
   ]
  },
  {
   "cell_type": "code",
   "execution_count": null,
   "metadata": {},
   "outputs": [],
   "source": [
    "n = int(input('Give me a number: '))\n",
    "result = 0\n",
    "for i in range(1, n+1):\n",
    "    result+=i\n",
    "print(f'sum of 1-{n} = {result}')"
   ]
  },
  {
   "cell_type": "code",
   "execution_count": null,
   "metadata": {
    "id": "J5vRp2tPkLsJ"
   },
   "outputs": [],
   "source": [
    "n = int(input('Give me a number: '))\n",
    "a = 1\n",
    "result = 0\n",
    "while a < n+1:\n",
    "    result+=a\n",
    "    a+=1\n",
    "print(f'sum of 1-{n} = {result}')"
   ]
  },
  {
   "cell_type": "code",
   "execution_count": 1,
   "metadata": {},
   "outputs": [
    {
     "name": "stdout",
     "output_type": "stream",
     "text": [
      "0:00:00.000141\n"
     ]
    }
   ],
   "source": [
    "import datetime\n",
    "start = datetime.datetime.now()\n",
    "\n",
    "finish = datetime.datetime.now()\n",
    "print(finish-start)"
   ]
  },
  {
   "cell_type": "code",
   "execution_count": 11,
   "metadata": {},
   "outputs": [
    {
     "name": "stdout",
     "output_type": "stream",
     "text": [
      "sum of 1-100000000 = 5000000050000000\n",
      "0:00:17.904215\n"
     ]
    }
   ],
   "source": [
    "start = datetime.datetime.now()\n",
    "\n",
    "n = 100000000\n",
    "result = 0\n",
    "for i in range(1, n+1):\n",
    "    result+=i\n",
    "print(f'sum of 1-{n} = {result}')\n",
    "\n",
    "finish = datetime.datetime.now()\n",
    "print(finish-start)"
   ]
  },
  {
   "cell_type": "code",
   "execution_count": 12,
   "metadata": {},
   "outputs": [
    {
     "name": "stdout",
     "output_type": "stream",
     "text": [
      "sum of 1-100000000 = 5000000050000000\n",
      "0:00:44.347996\n"
     ]
    }
   ],
   "source": [
    "start = datetime.datetime.now()\n",
    "\n",
    "n = 100000000\n",
    "a = 1\n",
    "result = 0\n",
    "while a < n+1:\n",
    "    result+=a\n",
    "    a+=1\n",
    "print(f'sum of 1-{n} = {result}')\n",
    "\n",
    "finish = datetime.datetime.now()\n",
    "print(finish-start)"
   ]
  },
  {
   "cell_type": "markdown",
   "metadata": {
    "id": "PqFTRA8ncWqr"
   },
   "source": [
    "**QUEST XXVII-** Write a Python program to construct the following pattern\n",
    "\n",
    "```\n",
    "5 4 3 2 1 \n",
    "4 3 2 1 \n",
    "3 2 1 \n",
    "2 1 \n",
    "1\n",
    "```\n",
    "\n"
   ]
  },
  {
   "cell_type": "code",
   "execution_count": 13,
   "metadata": {},
   "outputs": [
    {
     "name": "stdout",
     "output_type": "stream",
     "text": [
      "Give me a number: 9\n",
      "9 8 7 6 5 4 3 2 1\n",
      "8 7 6 5 4 3 2 1\n",
      "7 6 5 4 3 2 1\n",
      "6 5 4 3 2 1\n",
      "5 4 3 2 1\n",
      "4 3 2 1\n",
      "3 2 1\n",
      "2 1\n",
      "1\n"
     ]
    }
   ],
   "source": [
    "n = int(input('Give me a number: '))\n",
    "for i in range(n, 0, -1):\n",
    "    print(*range(i, 0, -1))"
   ]
  },
  {
   "cell_type": "code",
   "execution_count": 14,
   "metadata": {
    "id": "IYtUqZ9jkNuc"
   },
   "outputs": [
    {
     "name": "stdout",
     "output_type": "stream",
     "text": [
      "Give me a number: 9\n",
      "9 8 7 6 5 4 3 2 1 \n",
      "8 7 6 5 4 3 2 1 \n",
      "7 6 5 4 3 2 1 \n",
      "6 5 4 3 2 1 \n",
      "5 4 3 2 1 \n",
      "4 3 2 1 \n",
      "3 2 1 \n",
      "2 1 \n",
      "1 \n"
     ]
    }
   ],
   "source": [
    "n = int(input('Give me a number: '))\n",
    "ls = list(range(1, n+1))\n",
    "ls.reverse()\n",
    "a = 0\n",
    "while a < n:\n",
    "    for i in ls[a:]:\n",
    "        print(i, end = ' ')\n",
    "    print()\n",
    "    a+=1"
   ]
  },
  {
   "cell_type": "markdown",
   "metadata": {
    "id": "Df6oQOuWcW5y"
   },
   "source": [
    "**QUEST XXVIII-** Write a program which display the cube of the number up to a given integer\n",
    "\n",
    "For Example: \n",
    "\n",
    "`num1 = 6`\n",
    "\n",
    "Expected output:\n",
    "\n",
    "```\n",
    "Current Number is : 1  and the cube is 1\n",
    "Current Number is : 2  and the cube is 8\n",
    "Current Number is : 3  and the cube is 27\n",
    "Current Number is : 4  and the cube is 64\n",
    "Current Number is : 5  and the cube is 125\n",
    "Current Number is : 6  and the cube is 216\n",
    "```\n",
    "\n"
   ]
  },
  {
   "cell_type": "code",
   "execution_count": 18,
   "metadata": {
    "id": "BS2cdYAikPk7"
   },
   "outputs": [
    {
     "name": "stdout",
     "output_type": "stream",
     "text": [
      "Give me a number: 1\n",
      "Current Number is : 1  and the cube is 1\n"
     ]
    }
   ],
   "source": [
    "n = int(input('Give me a number: '))\n",
    "for i in range(1, n+1):\n",
    "    print(f'Current Number is : {i}  and the cube is {i**3}')"
   ]
  },
  {
   "cell_type": "markdown",
   "metadata": {
    "id": "pnYxB3zYeZcl"
   },
   "source": [
    "**QUEST XXIX-** Write a program to split a given string on hyphens into several substrings and display each substring\n",
    "\n",
    "For Examples :\n",
    "\n",
    "`str1 = \"Emre-is-a-data-scientist\"`\n",
    "\n",
    "Expected output:\n",
    "```\n",
    "Emre\n",
    "is\n",
    "a\n",
    "data\n",
    "scientist\n",
    "```\n",
    "\n",
    "\n",
    "\n"
   ]
  },
  {
   "cell_type": "code",
   "execution_count": 21,
   "metadata": {
    "id": "5dy8eHw_kRk1"
   },
   "outputs": [
    {
     "name": "stdout",
     "output_type": "stream",
     "text": [
      "Emre\n",
      "is\n",
      "a\n",
      "data\n",
      "scientist\n"
     ]
    }
   ],
   "source": [
    "str1 = \"Emre-is-a-data-scientist\"\n",
    "ls = list(str1.split('-'))\n",
    "for i in ls:\n",
    "    print(i)"
   ]
  },
  {
   "cell_type": "code",
   "execution_count": null,
   "metadata": {},
   "outputs": [],
   "source": [
    "str1 = \"Emre-is-a-data-scientist\"\n",
    "start = 0\n",
    "end = 0\n",
    "for i in str1:\n",
    "    if i == '-':\n",
    "        print(str1[start:end])\n",
    "        end+=1\n",
    "        start = end\n",
    "    elif '-' not in str1[start:]:\n",
    "        print(str1[start:])\n",
    "        break  \n",
    "    else:\n",
    "        end+=1"
   ]
  },
  {
   "cell_type": "code",
   "execution_count": 19,
   "metadata": {},
   "outputs": [
    {
     "name": "stdout",
     "output_type": "stream",
     "text": [
      "Emre\n",
      "is\n",
      "a\n",
      "data\n",
      "scientist"
     ]
    }
   ],
   "source": [
    "str1 = \"Emre-is-a-data-scientist\"\n",
    "for i in range(len(str1)):\n",
    "    if str1[i] != \"-\":\n",
    "        print(str1[i], end=\"\")\n",
    "    else:\n",
    "        i += 1\n",
    "        print()"
   ]
  },
  {
   "cell_type": "code",
   "execution_count": 20,
   "metadata": {},
   "outputs": [
    {
     "name": "stdout",
     "output_type": "stream",
     "text": [
      "['Emre', 'is', 'a', 'data', 'scientist']\n",
      "Emre\n",
      "is\n",
      "a\n",
      "data\n",
      "scientist\n"
     ]
    }
   ],
   "source": [
    "str2 = \"Emre-is-a-data-scientist\"\n",
    "words = str2.replace(\"-\", \" \").split()\n",
    "print(words)\n",
    "for word in words:\n",
    "  print(word)"
   ]
  },
  {
   "cell_type": "markdown",
   "metadata": {
    "id": "9FXSbm6IeZ4i"
   },
   "source": [
    "**QUEST XXX-** Write a function that prints the salary and employee name from the user\n",
    "\n",
    "For Example:\n",
    "```\n",
    "name: emre\n",
    "\n",
    "price: 5000\n",
    "Employee emre salary is: $ 5000\n",
    "```\n",
    "\n"
   ]
  },
  {
   "cell_type": "code",
   "execution_count": null,
   "metadata": {
    "id": "V9-8MVb5kTvl"
   },
   "outputs": [],
   "source": [
    "\n",
    "name = input('Your name: ')\n",
    "salary = input('Your salary: ')\n",
    "print(f\"Employee {name}'s salary is: $ {salary}\")"
   ]
  },
  {
   "cell_type": "code",
   "execution_count": 22,
   "metadata": {},
   "outputs": [
    {
     "name": "stdout",
     "output_type": "stream",
     "text": [
      "Your name: emre\n",
      "Your salary: 5000\n"
     ]
    }
   ],
   "source": [
    "def sallary(name = input('Your name: '), salary = input('Your salary: ')):\n",
    "    print (f\"Employee {name}'s salary is: $ {salary}\")"
   ]
  },
  {
   "cell_type": "code",
   "execution_count": 23,
   "metadata": {},
   "outputs": [
    {
     "name": "stdout",
     "output_type": "stream",
     "text": [
      "Employee emre's salary is: $ 5000\n"
     ]
    }
   ],
   "source": [
    "sallary()"
   ]
  },
  {
   "cell_type": "code",
   "execution_count": 32,
   "metadata": {},
   "outputs": [
    {
     "name": "stdout",
     "output_type": "stream",
     "text": [
      "Name: emre\n",
      "Price: 43532\n"
     ]
    }
   ],
   "source": [
    "def Employee(name = input('Name: '), salary = int(input('Price: '))):\n",
    "    print(\"Employee\", name, \"salary is:\", '$',salary)"
   ]
  },
  {
   "cell_type": "code",
   "execution_count": 33,
   "metadata": {},
   "outputs": [
    {
     "name": "stdout",
     "output_type": "stream",
     "text": [
      "Employee emre salary is: $ 43532\n"
     ]
    }
   ],
   "source": [
    "Employee()"
   ]
  },
  {
   "cell_type": "code",
   "execution_count": null,
   "metadata": {},
   "outputs": [],
   "source": []
  }
 ],
 "metadata": {
  "colab": {
   "collapsed_sections": [],
   "name": "itx_bayramsekeri.ipynb",
   "provenance": []
  },
  "kernelspec": {
   "display_name": "Python 3",
   "language": "python",
   "name": "python3"
  },
  "language_info": {
   "codemirror_mode": {
    "name": "ipython",
    "version": 3
   },
   "file_extension": ".py",
   "mimetype": "text/x-python",
   "name": "python",
   "nbconvert_exporter": "python",
   "pygments_lexer": "ipython3",
   "version": "3.8.8"
  }
 },
 "nbformat": 4,
 "nbformat_minor": 1
}
