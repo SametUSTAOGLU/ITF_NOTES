{
 "cells": [
  {
   "cell_type": "markdown",
   "id": "15edb5f4",
   "metadata": {},
   "source": [
    "# Sum of Missing Numbers\n",
    "Create a function that returns the sum of missing numbers from the given list.\n",
    "\n",
    "Examples\n",
    "sum_missing_numbers([4, 3, 8, 1, 2]) ➞ 18\n",
    "# 5 + 6 + 7 = 18\n",
    "\n",
    "\n",
    "sum_missing_numbers([17, 16, 15, 10, 11, 12]) ➞ 27\n",
    "# 13 + 14 = 27\n",
    "\n",
    "sum_missing_numbers([1, 2, 3, 4, 5]) ➞ 0\n",
    "# No Missing Numbers (i.e. all numbers in [1, 5] are present in the list)"
   ]
  },
  {
   "cell_type": "code",
   "execution_count": 3,
   "id": "e44e6818",
   "metadata": {},
   "outputs": [
    {
     "name": "stdout",
     "output_type": "stream",
     "text": [
      "18\n"
     ]
    }
   ],
   "source": [
    "# SAMET\n",
    "\n",
    "liste = [4, 3, 8, 1, 2]\n",
    "minimum = min(liste)\n",
    "maksimum = max(liste)\n",
    "\n",
    "def kayıp_toplam(liste):\n",
    "    toplam = 0\n",
    "    for i in range(minimum, maksimum+1):\n",
    "        if i not in liste:\n",
    "            toplam = toplam + i\n",
    "    print(toplam)\n",
    "    \n",
    "kayıp_toplam(liste)\n"
   ]
  },
  {
   "cell_type": "code",
   "execution_count": null,
   "id": "08051673",
   "metadata": {},
   "outputs": [],
   "source": [
    "# SELMAN\n",
    "\n",
    "def sum_missing_numbers(ls):\n",
    "    num_set = set(ls)\n",
    "    st = set(range(min(ls), max(ls)))\n",
    "    dif = st.difference(num_set)\n",
    "    return sum(dif)\n",
    "sum_missing_numbers([4, 3, 1, 2,10]) "
   ]
  },
  {
   "cell_type": "code",
   "execution_count": 4,
   "id": "bb97c34b",
   "metadata": {},
   "outputs": [
    {
     "name": "stdout",
     "output_type": "stream",
     "text": [
      "How many numbers do you need?: 5\n",
      "1. number: 1\n",
      "2. number: 3\n",
      "3. number: 5\n",
      "4. number: 7\n",
      "5. number: 9\n",
      "Your numbers are [1, 3, 5, 7, 9]\n",
      "20\n"
     ]
    }
   ],
   "source": [
    "# ALP çözüm_1\n",
    "\n",
    "how_many = int(input(\"How many numbers do you need?: \"))\n",
    "number_list = []\n",
    "i = 1\n",
    "while i <= how_many:\n",
    "  numbers = input(f\"{i}. number: \")\n",
    "  number_list.append(int(numbers))\n",
    "  i += 1\n",
    "\n",
    "print(f\"Your numbers are {number_list}\")\n",
    "\n",
    "number_list.sort()\n",
    "\n",
    "range_list = list(range(number_list[0], number_list[-1] + 1))\n",
    "\n",
    "sum_missing = []\n",
    "\n",
    "j = 0\n",
    "for i in range(len(range_list)):\n",
    "  if range_list[i] == number_list[j]:\n",
    "    j += 1\n",
    "  else:\n",
    "    sum_missing.append(range_list[i])\n",
    "\n",
    "print(sum(sum_missing))"
   ]
  },
  {
   "cell_type": "code",
   "execution_count": null,
   "id": "c4aac954",
   "metadata": {},
   "outputs": [],
   "source": [
    "# ALP çözüm_2\n",
    "\n",
    "how_many = int(input(\"How many numbers do you need?: \"))\n",
    "number_list = []\n",
    "i = 1\n",
    "while i <= how_many:\n",
    "  numbers = input(f\"{i}. number: \")\n",
    "  number_list.append(int(numbers))\n",
    "  i += 1\n",
    "\n",
    "print(f\"Your numbers are {number_list}\")\n",
    "\n",
    "number_list.sort()\n",
    "\n",
    "number_set = set(number_list)\n",
    "\n",
    "range_set = set(range(number_list[0], number_list[-1] + 1))\n",
    "\n",
    "sum_missing = (range_set-number_set)\n",
    "print(sum(sum_missing))\n"
   ]
  },
  {
   "cell_type": "code",
   "execution_count": 10,
   "id": "e68340c0",
   "metadata": {},
   "outputs": [
    {
     "name": "stdout",
     "output_type": "stream",
     "text": [
      "Enter numbers in a sequence with missing numbers5\n"
     ]
    },
    {
     "ename": "IndexError",
     "evalue": "list index out of range",
     "output_type": "error",
     "traceback": [
      "\u001b[1;31m---------------------------------------------------------------------------\u001b[0m",
      "\u001b[1;31mIndexError\u001b[0m                                Traceback (most recent call last)",
      "\u001b[1;32m<ipython-input-10-757ef4a078b6>\u001b[0m in \u001b[0;36m<module>\u001b[1;34m\u001b[0m\n\u001b[0;32m      3\u001b[0m \u001b[1;32mdef\u001b[0m \u001b[0mcreateList\u001b[0m\u001b[1;33m(\u001b[0m\u001b[0mr1\u001b[0m\u001b[1;33m,\u001b[0m \u001b[0mr2\u001b[0m\u001b[1;33m)\u001b[0m\u001b[1;33m:\u001b[0m\u001b[1;33m\u001b[0m\u001b[1;33m\u001b[0m\u001b[0m\n\u001b[0;32m      4\u001b[0m     \u001b[1;32mreturn\u001b[0m \u001b[1;33m[\u001b[0m\u001b[0mitem\u001b[0m \u001b[1;32mfor\u001b[0m \u001b[0mitem\u001b[0m \u001b[1;32min\u001b[0m \u001b[0mrange\u001b[0m\u001b[1;33m(\u001b[0m\u001b[0mr1\u001b[0m\u001b[1;33m,\u001b[0m \u001b[0mr2\u001b[0m\u001b[1;33m+\u001b[0m\u001b[1;36m1\u001b[0m\u001b[1;33m)\u001b[0m\u001b[1;33m]\u001b[0m\u001b[1;33m\u001b[0m\u001b[1;33m\u001b[0m\u001b[0m\n\u001b[1;32m----> 5\u001b[1;33m \u001b[0mr1\u001b[0m\u001b[1;33m,\u001b[0m \u001b[0mr2\u001b[0m \u001b[1;33m=\u001b[0m \u001b[0mx\u001b[0m\u001b[1;33m[\u001b[0m\u001b[1;36m1\u001b[0m\u001b[1;33m]\u001b[0m\u001b[1;33m,\u001b[0m \u001b[0mx\u001b[0m\u001b[1;33m[\u001b[0m\u001b[1;33m-\u001b[0m\u001b[1;36m1\u001b[0m\u001b[1;33m]\u001b[0m\u001b[1;33m\u001b[0m\u001b[1;33m\u001b[0m\u001b[0m\n\u001b[0m\u001b[0;32m      6\u001b[0m \u001b[0mprint\u001b[0m\u001b[1;33m(\u001b[0m\u001b[0mcreateList\u001b[0m\u001b[1;33m(\u001b[0m\u001b[0mr1\u001b[0m\u001b[1;33m,\u001b[0m \u001b[0mr2\u001b[0m\u001b[1;33m)\u001b[0m\u001b[1;33m)\u001b[0m\u001b[1;33m\u001b[0m\u001b[1;33m\u001b[0m\u001b[0m\n",
      "\u001b[1;31mIndexError\u001b[0m: list index out of range"
     ]
    }
   ],
   "source": [
    "x = list(input(\"Enter numbers in a sequence with missing numbers\"))\n",
    "x.sort()\n",
    "def createList(r1, r2):\n",
    "    return [item for item in range(r1, r2+1)]\n",
    "r1, r2 = x[1], x[-1]\n",
    "print(createList(r1, r2))"
   ]
  },
  {
   "cell_type": "code",
   "execution_count": 22,
   "id": "ff39fc64",
   "metadata": {},
   "outputs": [
    {
     "ename": "SyntaxError",
     "evalue": "unexpected EOF while parsing (<ipython-input-22-3e13749756cd>, line 13)",
     "output_type": "error",
     "traceback": [
      "\u001b[1;36m  File \u001b[1;32m\"<ipython-input-22-3e13749756cd>\"\u001b[1;36m, line \u001b[1;32m13\u001b[0m\n\u001b[1;33m    # print(createList(r1, r2))\u001b[0m\n\u001b[1;37m                               ^\u001b[0m\n\u001b[1;31mSyntaxError\u001b[0m\u001b[1;31m:\u001b[0m unexpected EOF while parsing\n"
     ]
    }
   ],
   "source": [
    "import numpy as np\n",
    "x = list(input(\"Enter numbers in a sequence with missing numbers\"))\n",
    "\n",
    "x.sort()\n",
    "\n",
    "print(x)\n",
    "\n",
    "complete_list = list(range(int(x[0]), int(x[-1])+1)\n",
    "#def createList(r1, r2):\n",
    "# return np.arange(r1, r2+1, 1)\n",
    "# Driver Code\n",
    "# r1, r2 = int(x[1]), int(x[-1])\n",
    "# print(createList(r1, r2))"
   ]
  },
  {
   "cell_type": "code",
   "execution_count": 23,
   "id": "98b70166",
   "metadata": {},
   "outputs": [
    {
     "name": "stdout",
     "output_type": "stream",
     "text": [
      "43\n"
     ]
    }
   ],
   "source": [
    "# HÜSEYİN\n",
    "\n",
    "sum_missing_numbers = [17, 15, 10, 11, 12]\n",
    "a = list(set(sum_missing_numbers))\n",
    "orj_list = list(range(a[0], a[-1],1))\n",
    "dif_list = list(set(orj_list) - set(a))\n",
    "total = sum(dif_list)\n",
    "# print(a)\n",
    "# print(orj_list)\n",
    "print(total)"
   ]
  },
  {
   "cell_type": "code",
   "execution_count": null,
   "id": "86a97e93",
   "metadata": {},
   "outputs": [],
   "source": [
    "#öznur\n",
    "\n",
    "given_list = [1,2,3,9]\n",
    "max = max(given_list)\n",
    "min = min(given_list)\n",
    "list_miss = []\n",
    "for i  in range(min, max+1):\n",
    "  if i not in given_list :\n",
    "    list_miss.append(i)\n",
    "    i += 1\n",
    "  else:\n",
    "    i += 1\n",
    "print(list_miss)\n",
    "sum = sum(list_miss)\n",
    "print(sum)\n",
    "  "
   ]
  },
  {
   "cell_type": "markdown",
   "id": "5595b825",
   "metadata": {},
   "source": [
    "Perfect Square Patch\n",
    "Create a function that takes an integer and outputs an n x n square solely consisting of the integer n.\n",
    "\n",
    "Examples\n",
    "square_patch(3) ➞ [\n",
    "  [3, 3, 3],\n",
    "  [3, 3, 3],\n",
    "  [3, 3, 3]\n",
    "]\n",
    "\n",
    "square_patch(5) ➞ [\n",
    "  [5, 5, 5, 5, 5],\n",
    "  [5, 5, 5, 5, 5],\n",
    "  [5, 5, 5, 5, 5],\n",
    "  [5, 5, 5, 5, 5],\n",
    "  [5, 5, 5, 5, 5]\n",
    "]\n",
    "\n",
    "square_patch(1) ➞ [\n",
    "  [1]\n",
    "]\n",
    "\n",
    "square_patch(0) ➞ []"
   ]
  },
  {
   "cell_type": "code",
   "execution_count": 161,
   "id": "99c8b923",
   "metadata": {
    "scrolled": true
   },
   "outputs": [
    {
     "name": "stdout",
     "output_type": "stream",
     "text": [
      "[[5, 5, 5, 5, 5], [5, 5, 5, 5, 5], [5, 5, 5, 5, 5], [5, 5, 5, 5, 5], [5, 5, 5, 5, 5]]\n",
      "None\n"
     ]
    }
   ],
   "source": [
    "# SAMET\n",
    "\n",
    "def square_patch(sayı):\n",
    "    liste_dış = []\n",
    "    for i in range(sayı):\n",
    "        liste_iç = []\n",
    "        for j in range(sayı):\n",
    "            liste_iç.append(sayı)\n",
    "        liste_dış.append(liste_iç)  \n",
    "    print(liste_dış)\n",
    "    \n",
    "print(square_patch(5))"
   ]
  },
  {
   "cell_type": "code",
   "execution_count": 24,
   "id": "ec052355",
   "metadata": {},
   "outputs": [
    {
     "data": {
      "text/plain": [
       "[[10, 10, 10, 10, 10, 10, 10, 10, 10, 10],\n",
       " [10, 10, 10, 10, 10, 10, 10, 10, 10, 10],\n",
       " [10, 10, 10, 10, 10, 10, 10, 10, 10, 10],\n",
       " [10, 10, 10, 10, 10, 10, 10, 10, 10, 10],\n",
       " [10, 10, 10, 10, 10, 10, 10, 10, 10, 10],\n",
       " [10, 10, 10, 10, 10, 10, 10, 10, 10, 10],\n",
       " [10, 10, 10, 10, 10, 10, 10, 10, 10, 10],\n",
       " [10, 10, 10, 10, 10, 10, 10, 10, 10, 10],\n",
       " [10, 10, 10, 10, 10, 10, 10, 10, 10, 10],\n",
       " [10, 10, 10, 10, 10, 10, 10, 10, 10, 10]]"
      ]
     },
     "execution_count": 24,
     "metadata": {},
     "output_type": "execute_result"
    }
   ],
   "source": [
    "# SELMAN\n",
    "\n",
    "def square_patch(n):\n",
    "    ls = []\n",
    "    ls_n = []\n",
    "    for i in range(n):\n",
    "        ls.append(n)\n",
    "    for j in range(n):\n",
    "        ls_n.append(ls)\n",
    "    return ls_n\n",
    "\n",
    "square_patch(10) "
   ]
  },
  {
   "cell_type": "code",
   "execution_count": 25,
   "id": "6763e039",
   "metadata": {},
   "outputs": [
    {
     "name": "stdout",
     "output_type": "stream",
     "text": [
      "Enter square patch: 5\n",
      "[[5, 5, 5, 5, 5], [5, 5, 5, 5, 5], [5, 5, 5, 5, 5], [5, 5, 5, 5, 5], [5, 5, 5, 5, 5]]\n"
     ]
    }
   ],
   "source": [
    "#ALP\n",
    "\n",
    "num = int(input(\"Enter square patch: \"))\n",
    "\n",
    "x = []\n",
    "a = 1\n",
    "while a <= num:\n",
    "  x.append(num)\n",
    "  a += 1\n",
    "\n",
    "square_patch = []\n",
    "b = 1\n",
    "while b <= num:\n",
    "  square_patch.append(x)\n",
    "  b += 1\n",
    "\n",
    "print(square_patch)  \n"
   ]
  },
  {
   "cell_type": "code",
   "execution_count": 28,
   "id": "632e9066",
   "metadata": {},
   "outputs": [
    {
     "name": "stdout",
     "output_type": "stream",
     "text": [
      "Enter a number (0-9): 3\n",
      "[[3, 3, 3], [3, 3, 3], [3, 3, 3]]\n"
     ]
    }
   ],
   "source": [
    "#HÜSEYİN\n",
    "\n",
    "n = int(input(\"Enter a number (0-9): \"))\n",
    "a = 0\n",
    "square_patch = []\n",
    "in_list = []\n",
    "while a < n:\n",
    "  in_list.append(n)\n",
    "  square_patch.append(in_list)\n",
    "  a += 1\n",
    "print(square_patch)"
   ]
  },
  {
   "cell_type": "code",
   "execution_count": 31,
   "id": "07c2c659",
   "metadata": {},
   "outputs": [
    {
     "name": "stdout",
     "output_type": "stream",
     "text": [
      "Enter an Integer:  5\n",
      "[[5, 5, 5, 5, 5], [5, 5, 5, 5, 5], [5, 5, 5, 5, 5], [5, 5, 5, 5, 5], [5, 5, 5, 5, 5]]\n"
     ]
    }
   ],
   "source": [
    "#öznur\n",
    "\n",
    "n =int(input(\"Enter an Integer:  \"))\n",
    "square_patch = []\n",
    "for i in range(0,n):\n",
    "  square_patch.append([])\n",
    "  for j in range(0,n):\n",
    "    square_patch[i].append(n)\n",
    "\n",
    "print(square_patch)"
   ]
  },
  {
   "cell_type": "code",
   "execution_count": null,
   "id": "4f2059e8",
   "metadata": {},
   "outputs": [],
   "source": [
    "Compass Directions\n",
    "You face 1 out of the 4 compass directions: N, S, E or W.\n",
    "\n",
    "A left turn is a counter-clockwise turn. e.g. N (left-turn) ➞ W.\n",
    "A right turn is a clockwise turn. e.g. N (right-turn) ➞ E.\n",
    "Create a function that takes in a starting direction and a sequence of left and right turns, and outputs the final direction faced.\n",
    "\n",
    "Examples\n",
    "final_direction(\"N\", [\"L\", \"L\", \"L\"]) ➞ \"E\"\n",
    "\n",
    "final_direction(\"N\", [\"R\", \"R\", \"R\", \"L\"]) ➞ \"S\"\n",
    "\n",
    "final_direction(\"N\", [\"R\", \"R\", \"R\", \"R\"]) ➞ \"N\"\n",
    "\n",
    "final_direction(\"N\", [\"R\", \"L\"]) ➞ \"N\"\n",
    "Notes\n",
    "You can only face 1 out of the 4 compass directions: N, S, E or W."
   ]
  },
  {
   "cell_type": "code",
   "execution_count": 32,
   "id": "2e0923b9",
   "metadata": {},
   "outputs": [
    {
     "name": "stdout",
     "output_type": "stream",
     "text": [
      "N\n"
     ]
    }
   ],
   "source": [
    "# SAMET\n",
    "\n",
    "donustur = {\"N\":0, \"E\":1, \"S\":2, \"W\":3}\n",
    "\n",
    "liste =[\"N\", [\"R\", \"R\", \"L\", \"L\"]]\n",
    "count = 0\n",
    "\n",
    "for i in liste[1]:\n",
    "    if i == 'L':\n",
    "        count -= 1\n",
    "    else:\n",
    "        count += 1\n",
    "        \n",
    "sonuc = (donustur[liste[0]] + count) % 4\n",
    "\n",
    "ters_donustur = {0:\"N\", 1:\"E\", 2:\"S\", 3:\"W\"}\n",
    "print(ters_donustur[sonuc])\n",
    "    "
   ]
  },
  {
   "cell_type": "code",
   "execution_count": null,
   "id": "5063c37d",
   "metadata": {},
   "outputs": [],
   "source": [
    "numbers = [1, 3, 7, 4, 3, 0, 3, 6, 3]\n",
    "for i in numbers :\n",
    "   a = numbers.count(i)\n",
    "print(f\"the most frequent number is {i} and it was {a} times repeated\" )"
   ]
  },
  {
   "cell_type": "code",
   "execution_count": 34,
   "id": "b6ab0f37",
   "metadata": {},
   "outputs": [
    {
     "data": {
      "text/plain": [
       "'S'"
      ]
     },
     "execution_count": 34,
     "metadata": {},
     "output_type": "execute_result"
    }
   ],
   "source": [
    "# SELMAN\n",
    "\n",
    "def final_direction(start, directions):\n",
    "    ls = ['N', 'E', 'S', 'W']\n",
    "    n = directions.count('R') + (-1*directions.count('L'))\n",
    "    return ls[(n+ ls.index(start))%4]\n",
    "\n",
    "final_direction(\"S\", [\"R\", \"R\", \"L\", \"L\"])"
   ]
  }
 ],
 "metadata": {
  "kernelspec": {
   "display_name": "Python 3",
   "language": "python",
   "name": "python3"
  },
  "language_info": {
   "codemirror_mode": {
    "name": "ipython",
    "version": 3
   },
   "file_extension": ".py",
   "mimetype": "text/x-python",
   "name": "python",
   "nbconvert_exporter": "python",
   "pygments_lexer": "ipython3",
   "version": "3.8.8"
  }
 },
 "nbformat": 4,
 "nbformat_minor": 5
}
