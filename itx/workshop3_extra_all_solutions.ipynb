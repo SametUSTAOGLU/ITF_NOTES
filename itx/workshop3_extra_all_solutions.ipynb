{
 "cells": [
  {
   "cell_type": "markdown",
   "metadata": {
    "id": "GIBz3bI1XDJ9"
   },
   "source": [
    "**Quest I**\n",
    "Remove all [ ] arguments in this list and write a program that compares the original and filtered values\n",
    "\n",
    "\n",
    "\n",
    "`list = [5, 6, [], 3, [], [], 9]`\n",
    "\n",
    "\n",
    "\n",
    "\n",
    "\n"
   ]
  },
  {
   "cell_type": "code",
   "execution_count": null,
   "metadata": {
    "id": "0mkELq-X7qko"
   },
   "outputs": [],
   "source": [
    "list_a = [5, 6, [], 3, [], [], 9]   # Alp\n",
    "for i in range(list_a.count([])):\n",
    "    list_a.remove([])\n",
    "print(list_a)"
   ]
  },
  {
   "cell_type": "code",
   "execution_count": null,
   "metadata": {
    "id": "gbTR4Rs3FKNI"
   },
   "outputs": [],
   "source": [
    "list = [5, 6, [], 3, [], [], 9]  # Öznur \n",
    "print(\"The original list ist : {}\".format(list))\n",
    "filt_value =[]\n",
    "for i in range(0,len(list)):\n",
    "  if isinstance(list[i],int) == 1 : # isinstance \n",
    "    filt_value.append(list[i])\n",
    "print(\"The List after removing is : {}\".format(filt_value))"
   ]
  },
  {
   "cell_type": "code",
   "execution_count": null,
   "metadata": {
    "id": "fN7yLno6E9Hd"
   },
   "outputs": [],
   "source": [
    "list = [5, 6, [], 3, [], [], 9]  # Öznur II\n",
    "list_new =[]\n",
    "for i in list:\n",
    "  if list.count(i)== 1:\n",
    "    list_new.append(i)\n",
    "print(f\"{list}\\n{list_new}\")\n"
   ]
  },
  {
   "cell_type": "code",
   "execution_count": 5,
   "metadata": {
    "colab": {
     "base_uri": "https://localhost:8080/"
    },
    "id": "lZ-U0rO3DL1e",
    "outputId": "838113a2-a17c-4382-8c50-2127645289ba"
   },
   "outputs": [
    {
     "name": "stdout",
     "output_type": "stream",
     "text": [
      "[5, 6, 3, 9]\n"
     ]
    }
   ],
   "source": [
    "list_1 = [5, 6, [], 3, [], [], 9] # Selman\n",
    "\n",
    "for i in range(list_1.count([])):\n",
    "    list_1.remove([])\n",
    "\n",
    "print(list_1)"
   ]
  },
  {
   "cell_type": "code",
   "execution_count": null,
   "metadata": {
    "id": "s1KMWauA-vLz"
   },
   "outputs": [],
   "source": [
    "  list_1 = [5, 6, [], 3, [], [], 9] # Nadire\n",
    " \n",
    "  #list_1.remove([])\n",
    "  #del list_1[2]\n",
    "  list_1.pop(2)\n",
    "  list_1.pop(3)\n",
    "  list_1.pop(3)\n",
    "  list_2 = list_1\n",
    "  list_1_begin = [5, 6, [], 3, [], [], 9]\n",
    "  for place in list_1_begin:\n",
    "    print(\"comparing %s with %s: %s\" %(place, list_2, place == list_2))\n",
    "  \n",
    "  \n",
    "\n",
    "  "
   ]
  },
  {
   "cell_type": "code",
   "execution_count": null,
   "metadata": {
    "id": "Hrlu-zemWlNG"
   },
   "outputs": [],
   "source": [
    "list1 = [5, 6, [], 3, [], [], 9]  # Emre\n",
    "  \n",
    "#original \n",
    "print(\"The original list is : \" + str(list1))\n",
    "  \n",
    "# Remove empty List from List\n",
    "# using filter method\n",
    "list2 = list(filter(None, list1))\n",
    "  \n",
    "# printing result \n",
    "print (\"List after empty list removal : \" + str(list2))"
   ]
  },
  {
   "cell_type": "markdown",
   "metadata": {
    "id": "ITFuVguodA64"
   },
   "source": [
    "**Quest II**\n",
    "Add item 7000 after 6000 in the following Python List\n",
    "\n",
    "\n",
    "\n",
    "```\n",
    "list1 = [10, 20, [300, 400, [5000, 6000], 500], 30, 40]```\n",
    "\n"
   ]
  },
  {
   "cell_type": "code",
   "execution_count": 10,
   "metadata": {
    "colab": {
     "base_uri": "https://localhost:8080/"
    },
    "id": "iF8aRQbp7unh",
    "outputId": "39e7d401-c3fc-4f49-e3b5-3ab467648463"
   },
   "outputs": [
    {
     "name": "stdout",
     "output_type": "stream",
     "text": [
      "[10, 20, [300, 400, [5000, 6000, 7000], 500], 30, 40]\n"
     ]
    }
   ],
   "source": [
    "# Doğrusunu öğrenmeden önce    # Alp\n",
    "#list1 = [10, 20, [300, 400, [5000, 6000], 500], 30, 40]\n",
    "#list1.remove([300, 400, [5000, 6000], 500])\n",
    "#list1.insert(2, [300, 400, [5000, 6000, 7000], 500])\n",
    "#print(list1)\n",
    "# Doğrusunu öğrendikten sonra\n",
    "list1 = [10, 20, [300, 400, [5000, 6000], 500], 30, 40]\n",
    "list1[2][2].append(7000)\n",
    "print(list1)"
   ]
  },
  {
   "cell_type": "code",
   "execution_count": null,
   "metadata": {
    "id": "4V-sPoFHGZ1o"
   },
   "outputs": [],
   "source": [
    "list1 =[10, 20, [300, 400, [5000, 6000], 500], 30, 40] # Öznur\n",
    "list1[2][2].insert(2,7000) \n",
    "print(list1)"
   ]
  },
  {
   "cell_type": "code",
   "execution_count": null,
   "metadata": {
    "id": "H9bUQipN02zR"
   },
   "outputs": [],
   "source": [
    "list1 =[10, 20, [300, 400, [5000, 6000], 500], 30, 40] # Öznur II\n",
    "list1[2][2].extend([7000])\n",
    "print(list1)"
   ]
  },
  {
   "cell_type": "code",
   "execution_count": 13,
   "metadata": {
    "colab": {
     "base_uri": "https://localhost:8080/"
    },
    "id": "HpyN6hS3DL1f",
    "outputId": "a00bdb12-4e5b-4a75-fbde-d21aa3251316",
    "scrolled": true
   },
   "outputs": [
    {
     "data": {
      "text/plain": [
       "[10, 20, [300, 400, [5000, 6000, 7000, 7000, 7000, 7000], 500], 30, 40]"
      ]
     },
     "execution_count": 13,
     "metadata": {
      "tags": []
     },
     "output_type": "execute_result"
    }
   ],
   "source": [
    "list1 = [10, 20, [300, 400, [5000, 6000], 500], 30, 40]\n",
    "list1[2][2].append(7000) # Selman\n",
    "list1"
   ]
  },
  {
   "cell_type": "code",
   "execution_count": null,
   "metadata": {
    "id": "SUDVqCvwDL1g"
   },
   "outputs": [],
   "source": [
    "list1 = [10, 20, [300, 400, [5000, 6000], 500], 30, 40]\n",
    "list1[2][2].insert(2, 7000) # Selman II\n",
    "list1"
   ]
  },
  {
   "cell_type": "code",
   "execution_count": 14,
   "metadata": {
    "colab": {
     "base_uri": "https://localhost:8080/"
    },
    "id": "C-QO7g01IMCB",
    "outputId": "c2332c61-2c37-4c10-c268-3968c976141c"
   },
   "outputs": [
    {
     "name": "stdout",
     "output_type": "stream",
     "text": [
      "Current  List is : [10, 20, [300, 400, [5000, 6000, 7000]], 30, 40]\n"
     ]
    }
   ],
   "source": [
    "list1 = [10, 20, [300, 400, [5000, 6000], 500], 30, 40] # Nadire\n",
    "list_2 = [300, 400, [5000,6000,7000]]\n",
    "list1.pop(2)\n",
    "list1.insert(2, list_2)\n",
    "\n",
    "print(f'Current  List is : {list1}')"
   ]
  },
  {
   "cell_type": "code",
   "execution_count": null,
   "metadata": {
    "id": "F7EmlGR8dHpO"
   },
   "outputs": [],
   "source": [
    "list1 = [10, 20, [300, 400, [5000, 6000], 500], 30, 40] # Emre\n",
    "list1[2][2].append(7000)\n",
    "print(list1)"
   ]
  },
  {
   "cell_type": "markdown",
   "metadata": {
    "id": "wvINWx6QdpRd"
   },
   "source": [
    "**Quest III**\n",
    "Given a nested list extend it by adding the sub list [\"h\", \"i\", \"j\"] in such a way that it will look like the following list (should be alphabetical)\n",
    "\n",
    "\n",
    "\n",
    "```\n",
    "list1 = [\"a\", \"b\", [\"c\", [\"d\", \"e\", [\"f\", \"g\"], \"k\"], \"l\"], \"m\", \"n\"]\n",
    "```\n",
    "\n"
   ]
  },
  {
   "cell_type": "code",
   "execution_count": null,
   "metadata": {
    "id": "qiHJFbbI7xfu"
   },
   "outputs": [],
   "source": [
    "list1 = [\"a\", \"b\", [\"c\", [\"d\", \"e\", [\"f\", \"g\"], \"k\"], \"l\"], \"m\", \"n\"]   # Alp\n",
    "list1[2][1][2].append([\"h\", \"i\", \"j\"])\n",
    "print(list1)"
   ]
  },
  {
   "cell_type": "code",
   "execution_count": null,
   "metadata": {
    "id": "rDcn8V6tHV8o"
   },
   "outputs": [],
   "source": [
    "list2 = [\"a\", \"b\", [\"c\", [\"d\", \"e\", [\"f\", \"g\"], \"k\"], \"l\"], \"m\", \"n\"] # Öznur\n",
    "list2[2][1][2].insert(2,[\"h\",\"i\",\"j\"])\n",
    "print(list2)"
   ]
  },
  {
   "cell_type": "code",
   "execution_count": null,
   "metadata": {
    "id": "g8MT8e9vDL1h"
   },
   "outputs": [],
   "source": [
    "list1[2][1][2].extend([\"h\", \"i\", \"j\"]) # Selman\n",
    "list1"
   ]
  },
  {
   "cell_type": "code",
   "execution_count": null,
   "metadata": {
    "id": "VK3sdTKCIfNN"
   },
   "outputs": [],
   "source": [
    "list1 = [\"a\", \"b\", [\"c\", [\"d\", \"e\", [\"f\", \"g\"], \"k\"], \"l\"], \"m\", \"n\"] # Nadire\n",
    "\n",
    "list1[2][1][2].extend([[\"h\", \"i\", \"j\"]])\n",
    "print(f'Current  List is : {list1}')\n"
   ]
  },
  {
   "cell_type": "code",
   "execution_count": null,
   "metadata": {
    "id": "kHgTezGhq-7B"
   },
   "outputs": [],
   "source": [
    "list1 = [\"a\", \"b\", [\"c\", [\"d\", \"e\", [\"f\", \"g\"], \"k\"], \"l\"], \"m\", \"n\"] # Emre\n",
    "subList = [\"h\", \"i\", \"j\"]\n",
    "\n",
    "list1[2][1][2].extend(subList)\n",
    "print(list1)"
   ]
  },
  {
   "cell_type": "markdown",
   "metadata": {
    "id": "zd_5f2ryeBZF"
   },
   "source": [
    "**Quest IV**\n",
    "Given a Python list, find value 20 in the list, and if it is present, replace it with 200. Only update the first occurrence of a value\n",
    "\n",
    "\n",
    "\n",
    "```\n",
    "list1 = [5, 10, 15, 20, 25, 50, 20]\n",
    "```\n",
    "\n"
   ]
  },
  {
   "cell_type": "code",
   "execution_count": 15,
   "metadata": {
    "colab": {
     "base_uri": "https://localhost:8080/"
    },
    "id": "kdVpOpgR8HeA",
    "outputId": "1601440c-e847-401a-f84b-07fadb93291c"
   },
   "outputs": [
    {
     "name": "stdout",
     "output_type": "stream",
     "text": [
      "[5, 10, 15, 200, 25, 50, 200]\n"
     ]
    }
   ],
   "source": [
    "#stack overflow   # Alp\n",
    "list1 = [5, 10, 15, 20, 25, 50, 20]\n",
    "for n, i in enumerate(list1):\n",
    "  if i == 20:\n",
    "    list1[n] = 200\n",
    "print(list1)"
   ]
  },
  {
   "cell_type": "code",
   "execution_count": 24,
   "metadata": {
    "colab": {
     "base_uri": "https://localhost:8080/"
    },
    "id": "jdKxhpLeI7IY",
    "outputId": "8d959eb4-cc39-4c91-8b39-7360cc2d430c"
   },
   "outputs": [
    {
     "name": "stdout",
     "output_type": "stream",
     "text": [
      "[5, 10, 15, 200, 25, 50, 20]\n"
     ]
    }
   ],
   "source": [
    "list_3 =[5, 10, 15, 20, 25, 50, 20] # Öznur\n",
    "for i in range (0,len(list_3)):\n",
    "  if list_3[i] != 20:\n",
    "      i += 1\n",
    "  else :\n",
    "      list_3[i] = 200\n",
    "      print(list_3)\n",
    "      break\n",
    "      "
   ]
  },
  {
   "cell_type": "code",
   "execution_count": 28,
   "metadata": {
    "colab": {
     "base_uri": "https://localhost:8080/"
    },
    "id": "tszYfoHQRc9E",
    "outputId": "d3737e56-79e3-448d-902b-2d8a37c043e7"
   },
   "outputs": [
    {
     "name": "stdout",
     "output_type": "stream",
     "text": [
      "[5, 10, 15, 200, 25, 50, 20]\n"
     ]
    }
   ],
   "source": [
    "list_3 =[5, 10, 15, 20, 25, 50, 20] # Öznur II\n",
    "index =list_3.index(20) # index komutu bir kere çalışır ilk değişimi yaptıktan sonra durur\n",
    "list_3[index] = 200\n",
    "print(list_3)"
   ]
  },
  {
   "cell_type": "code",
   "execution_count": 29,
   "metadata": {
    "colab": {
     "base_uri": "https://localhost:8080/"
    },
    "id": "4nKD4vaQDL1i",
    "outputId": "61665514-bdd9-4c9d-b988-1f21dc5f244f"
   },
   "outputs": [
    {
     "name": "stdout",
     "output_type": "stream",
     "text": [
      "[5, 10, 15, 200, 25, 50, 20]\n"
     ]
    }
   ],
   "source": [
    "list1 = [5, 10, 15, 20, 25, 50, 20] # Selman\n",
    "x = 0\n",
    "for i in list1:\n",
    "    if i == 20:\n",
    "        list1[x] = 200\n",
    "        break\n",
    "    else:\n",
    "        x +=1\n",
    "print(list1)"
   ]
  },
  {
   "cell_type": "code",
   "execution_count": 33,
   "metadata": {
    "colab": {
     "base_uri": "https://localhost:8080/"
    },
    "id": "9ZoSq1eEJkrM",
    "outputId": "cfeea7aa-52ed-4582-f8a3-12bff626fb66"
   },
   "outputs": [
    {
     "name": "stdout",
     "output_type": "stream",
     "text": [
      "[5, 10, 15, 200, 25, 50, 200]\n"
     ]
    }
   ],
   "source": [
    "list1 = [5, 10, 15, 20, 25, 50, 20] # Nadire\n",
    "for x in list1:\n",
    "    if x == 20:\n",
    "      print(str(list1).replace(\"20\", \"200\")) \n",
    "      break\n",
    "      "
   ]
  },
  {
   "cell_type": "code",
   "execution_count": null,
   "metadata": {
    "id": "FOB7PlJWeBkO"
   },
   "outputs": [],
   "source": [
    "list1 = [5, 10, 15, 20, 25, 50, 20] # Emre\n",
    "\n",
    "index1 = list1.index(20)\n",
    "list1[index1] = 200\n",
    "print(list1)"
   ]
  },
  {
   "cell_type": "markdown",
   "metadata": {
    "id": "KFHZ7yiogc2b"
   },
   "source": [
    "**Quest V**\n",
    "Fill in the blanks in the python definition [If you don't know the definition is here >>>>]https://www.python.org/doc/essays/blurb/\n",
    "\n",
    "\n",
    "```\n",
    "WiP = [\"Python\", \"is\",  \"an\",\"........\", \"........\", \"........\",\".......\"]```\n",
    "\n"
   ]
  },
  {
   "cell_type": "code",
   "execution_count": 34,
   "metadata": {
    "colab": {
     "base_uri": "https://localhost:8080/"
    },
    "id": "M2YeL2qp88ru",
    "outputId": "de8531a0-2ae2-4e0c-b086-e1e0abfdf2c4"
   },
   "outputs": [
    {
     "name": "stdout",
     "output_type": "stream",
     "text": [
      "['Python', 'is', 'an', 'interpreted', 'object-oriented', 'high-level programming language', 'with dynamic semantics']\n"
     ]
    }
   ],
   "source": [
    "#Python is an interpreted, object-oriented, high-level programming language with dynamic semantics.     # Alp\n",
    "WiP = [\"Python\", \"is\",  \"an\",\"........\", \"........\", \"........\",\".......\"]\n",
    "WiP[3:] = [\"interpreted\", \"object-oriented\",  \"high-level programming language\", \"with dynamic semantics\"]\n",
    "print(WiP)"
   ]
  },
  {
   "cell_type": "code",
   "execution_count": 35,
   "metadata": {
    "colab": {
     "base_uri": "https://localhost:8080/"
    },
    "id": "rGegM83bDL1i",
    "outputId": "a6aeb26a-b0dc-47ca-842e-6c9d3e3a16de"
   },
   "outputs": [
    {
     "name": "stdout",
     "output_type": "stream",
     "text": [
      "['Python', 'is', 'an', '........', '........', '........', '.......']\n",
      "Fill in the blanks!\n",
      "interpreted\n",
      "object-oriented\n",
      "fdfd\n",
      "fd\n",
      "['Python', 'is', 'an', 'interpreted', 'object-oriented', 'fdfd', 'fd']\n"
     ]
    }
   ],
   "source": [
    "ls1= [\"Python\", \"is\",  \"an\",\"........\", \"........\", \"........\",\".......\"] # Selman\n",
    "print(ls1)\n",
    "print('Fill in the blanks!')\n",
    "for i in range(3,7):\n",
    "    blank = input()\n",
    "    ls1[i] = blank\n",
    "print(ls1)\n"
   ]
  },
  {
   "cell_type": "code",
   "execution_count": 36,
   "metadata": {
    "colab": {
     "base_uri": "https://localhost:8080/"
    },
    "id": "zKQZLfgMKYJs",
    "outputId": "ea3d8497-1b33-49b2-bbd7-1d33e5da1e88"
   },
   "outputs": [
    {
     "name": "stdout",
     "output_type": "stream",
     "text": [
      "['Python', 'is', 'an', ' programming language', ' high-level', 'object-oriented', 'interpreted']\n"
     ]
    }
   ],
   "source": [
    "#Python is an interpreted, object-oriented, high-level programming language # Nadire\n",
    "wip = [\"Python\", \"is\",  \"an\", \"........\", \"........\",\".......\"]\n",
    "wip.insert(3,\"interpreted\")\n",
    "wip.insert(3,\"object-oriented\")\n",
    "wip.insert(3,\" high-level\")\n",
    "wip.insert(3,\" programming language\")\n",
    "wip.remove(\"........\")\n",
    "wip.remove(\"........\")\n",
    "wip.remove('.......')\n",
    "\n",
    "\n",
    "print(wip)"
   ]
  },
  {
   "cell_type": "code",
   "execution_count": null,
   "metadata": {
    "id": "HGTcYJaopXRQ"
   },
   "outputs": [],
   "source": [
    "WiP = [\"Python\", \"is\",  \"an\",\"........\", \"........\", \"........\",\".......\"] # Emre\n",
    "\n",
    "del WiP[3:7] \n",
    "\n",
    "\n",
    "WiP2 = [\"interpreted\", \"object-oriented\", \"programming\", \"language\" ]\n",
    "WiP.extend(WiP2)\n",
    "print(WiP)"
   ]
  },
  {
   "cell_type": "markdown",
   "metadata": {
    "id": "Sr9TiLEusTUX"
   },
   "source": [
    "**Quest VI**\n",
    "\n",
    "Write a program that checks if the number entered by the user is an number from the list\n",
    "\n",
    "\n",
    "\n",
    "```\n",
    "n = [1,2,3,4,5,6,7]\n",
    "```\n",
    "\n",
    "\n",
    "\n"
   ]
  },
  {
   "cell_type": "code",
   "execution_count": 41,
   "metadata": {
    "colab": {
     "base_uri": "https://localhost:8080/",
     "height": 243
    },
    "id": "qMs3YFcd-Hln",
    "outputId": "8f45add9-a6f4-4340-ef83-f9f0b601e261"
   },
   "outputs": [
    {
     "name": "stdout",
     "output_type": "stream",
     "text": [
      "Write a number: 7\n"
     ]
    },
    {
     "ename": "TypeError",
     "evalue": "ignored",
     "output_type": "error",
     "traceback": [
      "\u001b[0;31m---------------------------------------------------------------------------\u001b[0m",
      "\u001b[0;31mTypeError\u001b[0m                                 Traceback (most recent call last)",
      "\u001b[0;32m<ipython-input-41-1935e332ee6c>\u001b[0m in \u001b[0;36m<module>\u001b[0;34m()\u001b[0m\n\u001b[1;32m      1\u001b[0m \u001b[0mx\u001b[0m \u001b[0;34m=\u001b[0m \u001b[0mint\u001b[0m\u001b[0;34m(\u001b[0m\u001b[0minput\u001b[0m\u001b[0;34m(\u001b[0m\u001b[0;34m\"Write a number: \"\u001b[0m\u001b[0;34m)\u001b[0m\u001b[0;34m)\u001b[0m  \u001b[0;31m# Alp\u001b[0m\u001b[0;34m\u001b[0m\u001b[0;34m\u001b[0m\u001b[0m\n\u001b[1;32m      2\u001b[0m \u001b[0mn\u001b[0m \u001b[0;34m=\u001b[0m \u001b[0;34m[\u001b[0m\u001b[0;36m1\u001b[0m\u001b[0;34m,\u001b[0m\u001b[0;36m2\u001b[0m\u001b[0;34m,\u001b[0m\u001b[0;36m3\u001b[0m\u001b[0;34m,\u001b[0m\u001b[0;36m4\u001b[0m\u001b[0;34m,\u001b[0m\u001b[0;36m5\u001b[0m\u001b[0;34m,\u001b[0m\u001b[0;36m6\u001b[0m\u001b[0;34m,\u001b[0m\u001b[0;36m7\u001b[0m\u001b[0;34m]\u001b[0m\u001b[0;34m\u001b[0m\u001b[0;34m\u001b[0m\u001b[0m\n\u001b[0;32m----> 3\u001b[0;31m \u001b[0;32mfor\u001b[0m \u001b[0mi\u001b[0m \u001b[0;32min\u001b[0m \u001b[0mlist\u001b[0m\u001b[0;34m(\u001b[0m\u001b[0mn\u001b[0m\u001b[0;34m)\u001b[0m\u001b[0;34m:\u001b[0m\u001b[0;34m\u001b[0m\u001b[0;34m\u001b[0m\u001b[0m\n\u001b[0m\u001b[1;32m      4\u001b[0m   \u001b[0;32mif\u001b[0m \u001b[0mx\u001b[0m \u001b[0;34m!=\u001b[0m \u001b[0mi\u001b[0m\u001b[0;34m:\u001b[0m\u001b[0;34m\u001b[0m\u001b[0;34m\u001b[0m\u001b[0m\n\u001b[1;32m      5\u001b[0m     \u001b[0mprint\u001b[0m\u001b[0;34m(\u001b[0m\u001b[0;34mf\"{x} is in my list!\"\u001b[0m\u001b[0;34m)\u001b[0m\u001b[0;34m\u001b[0m\u001b[0;34m\u001b[0m\u001b[0m\n",
      "\u001b[0;31mTypeError\u001b[0m: 'list' object is not callable"
     ]
    }
   ],
   "source": [
    "x = int(input(\"Write a number: \"))  # Alp\n",
    "n = [1,2,3,4,5,6,7]\n",
    "for i in list(n):\n",
    "  if x != i:\n",
    "    print(f\"{x} is in my list!\")\n",
    "    break\n",
    "  else:\n",
    "    print(f\"{x} is not in my list!\")"
   ]
  },
  {
   "cell_type": "code",
   "execution_count": null,
   "metadata": {
    "id": "1UqqDBOwKqfT"
   },
   "outputs": [],
   "source": [
    "n = [1,2,3,4,5,6,7] # Öznur\n",
    "inp = int(input(\"Enter a number : \"))\n",
    "if inp in n:\n",
    "  print(\"The number is in the liste!!!\")\n",
    "else:\n",
    "  print(\"Schade Marmalade!!!\")\n",
    "        \n",
    "  \n"
   ]
  },
  {
   "cell_type": "code",
   "execution_count": 37,
   "metadata": {
    "colab": {
     "base_uri": "https://localhost:8080/"
    },
    "id": "6cZsWM6zaHWF",
    "outputId": "511b6f45-4885-4292-97b6-4af5905fd480"
   },
   "outputs": [
    {
     "name": "stdout",
     "output_type": "stream",
     "text": [
      "Enter a number : 9\n",
      "Enter another number : 11\n",
      "Enter another number : 7\n",
      "The number is in the liste!!!\n"
     ]
    }
   ],
   "source": [
    "n = [1,2,3,4,5,6,7] # Öznur II\n",
    "inp = int(input(\"Enter a number : \"))\n",
    "while inp not in (n):\n",
    "  inp = int(input(\"Enter another number : \"))\n",
    "  if inp in n:\n",
    "    print(\"The number is in the liste!!!\")"
   ]
  },
  {
   "cell_type": "code",
   "execution_count": 38,
   "metadata": {
    "colab": {
     "base_uri": "https://localhost:8080/"
    },
    "id": "PY3HRMUrK7IS",
    "outputId": "8c050e59-3448-4d11-fad1-7a25f3b2af48"
   },
   "outputs": [
    {
     "name": "stdout",
     "output_type": "stream",
     "text": [
      "Enter a number: 7\n",
      "True\n"
     ]
    }
   ],
   "source": [
    "n = [1,2,3,4,5,6,7] # Selman\n",
    "num = int(input('Enter a number: '))\n",
    "result = num in n\n",
    "print(result)"
   ]
  },
  {
   "cell_type": "code",
   "execution_count": null,
   "metadata": {
    "id": "LPrLLrm7DL1j"
   },
   "outputs": [],
   "source": [
    "n = [1,2,3,4,5,6,7] # Selman II\n",
    "num = int(input('Enter a number: '))\n",
    "if num in n:\n",
    "    print(f'your number {num} is in the list')\n",
    "else:\n",
    "    print(f'your number {num} is not in the list')"
   ]
  },
  {
   "cell_type": "code",
   "execution_count": null,
   "metadata": {
    "id": "v709v3RJK-ro"
   },
   "outputs": [],
   "source": [
    "num = input(\"enter a number\") # Nadire\n",
    "n = [1,2,3,4,5,6,7]\n",
    "if num in n:\n",
    "  print(\"right\")\n",
    "else:\n",
    "  print(\"try again\")"
   ]
  },
  {
   "cell_type": "code",
   "execution_count": null,
   "metadata": {
    "id": "e9xGhN4dv_q-"
   },
   "outputs": [],
   "source": [
    "a = int(input(\"Give me a number \")) # Emre\n",
    "\n",
    "\n",
    "n = [1,2,3,4,5,6,7]\n",
    "\n",
    "if a in n:\n",
    "    print(\"yes\")\n",
    "else :\n",
    "    print(\"no\")\n"
   ]
  },
  {
   "cell_type": "code",
   "execution_count": 39,
   "metadata": {
    "colab": {
     "base_uri": "https://localhost:8080/"
    },
    "id": "HSQIE0awZf6i",
    "outputId": "c2d70c1a-367c-4cf6-fa34-d0726f4aeac8"
   },
   "outputs": [
    {
     "name": "stdout",
     "output_type": "stream",
     "text": [
      "What is my name? emre\n",
      "What is my name? aneta\n",
      "You guessed my name!\n"
     ]
    }
   ],
   "source": [
    "name = \"not_aneta\" # Öznur Ekstra I\n",
    "while name!= \"aneta\":\n",
    "  name = input(\"What is my name? \")\n",
    "  if name == \"aneta\":\n",
    "    print (\"You guessed my name!\")"
   ]
  },
  {
   "cell_type": "markdown",
   "metadata": {
    "id": "NGCQWC3DfR7g"
   },
   "source": [
    "**Optional Quest I** **(Solving this quest is not mandatory)**\n",
    "\n",
    "Concatenate two lists index-wise (You must use for loop and zip() method )\n",
    "\n",
    "\n",
    "\n",
    "```\n",
    "list1 = [\"M\", \"na\", \"i\", \"Clarus\"] \n",
    "list2 = [\"y\", \"me\", \"s\", \"way\"]\n",
    "```\n",
    "\n",
    "\n"
   ]
  },
  {
   "cell_type": "code",
   "execution_count": 44,
   "metadata": {
    "colab": {
     "base_uri": "https://localhost:8080/",
     "height": 227
    },
    "id": "0T17oDTX9F5K",
    "outputId": "4d19e96b-1863-4ac0-ec9e-ff850bc2a56b"
   },
   "outputs": [
    {
     "ename": "TypeError",
     "evalue": "ignored",
     "output_type": "error",
     "traceback": [
      "\u001b[0;31m---------------------------------------------------------------------------\u001b[0m",
      "\u001b[0;31mTypeError\u001b[0m                                 Traceback (most recent call last)",
      "\u001b[0;32m<ipython-input-44-70bc2041b9b8>\u001b[0m in \u001b[0;36m<module>\u001b[0;34m()\u001b[0m\n\u001b[1;32m      1\u001b[0m \u001b[0mlist1\u001b[0m \u001b[0;34m=\u001b[0m \u001b[0;34m[\u001b[0m\u001b[0;34m\"M\"\u001b[0m\u001b[0;34m,\u001b[0m \u001b[0;34m\"na\"\u001b[0m\u001b[0;34m,\u001b[0m \u001b[0;34m\"i\"\u001b[0m\u001b[0;34m,\u001b[0m \u001b[0;34m\"Clarus\"\u001b[0m\u001b[0;34m]\u001b[0m  \u001b[0;31m# Alp\u001b[0m\u001b[0;34m\u001b[0m\u001b[0;34m\u001b[0m\u001b[0m\n\u001b[1;32m      2\u001b[0m \u001b[0mlist2\u001b[0m \u001b[0;34m=\u001b[0m \u001b[0;34m[\u001b[0m\u001b[0;34m\"y\"\u001b[0m\u001b[0;34m,\u001b[0m \u001b[0;34m\"me\"\u001b[0m\u001b[0;34m,\u001b[0m \u001b[0;34m\"s\"\u001b[0m\u001b[0;34m,\u001b[0m \u001b[0;34m\"way\"\u001b[0m\u001b[0;34m]\u001b[0m\u001b[0;34m\u001b[0m\u001b[0;34m\u001b[0m\u001b[0m\n\u001b[0;32m----> 3\u001b[0;31m \u001b[0mlist3\u001b[0m \u001b[0;34m=\u001b[0m \u001b[0mlist\u001b[0m\u001b[0;34m(\u001b[0m\u001b[0mzip\u001b[0m\u001b[0;34m(\u001b[0m\u001b[0mlist1\u001b[0m\u001b[0;34m,\u001b[0m \u001b[0mlist2\u001b[0m\u001b[0;34m)\u001b[0m\u001b[0;34m)\u001b[0m\u001b[0;34m\u001b[0m\u001b[0;34m\u001b[0m\u001b[0m\n\u001b[0m\u001b[1;32m      4\u001b[0m \u001b[0;32mfor\u001b[0m \u001b[0mi\u001b[0m\u001b[0;34m,\u001b[0m \u001b[0mn\u001b[0m \u001b[0;32min\u001b[0m \u001b[0mlist3\u001b[0m\u001b[0;34m:\u001b[0m\u001b[0;34m\u001b[0m\u001b[0;34m\u001b[0m\u001b[0m\n\u001b[1;32m      5\u001b[0m   \u001b[0mprint\u001b[0m\u001b[0;34m(\u001b[0m\u001b[0mi\u001b[0m \u001b[0;34m+\u001b[0m \u001b[0mn\u001b[0m\u001b[0;34m)\u001b[0m\u001b[0;34m\u001b[0m\u001b[0;34m\u001b[0m\u001b[0m\n",
      "\u001b[0;31mTypeError\u001b[0m: 'list' object is not callable"
     ]
    }
   ],
   "source": [
    "list1 = [\"M\", \"na\", \"i\", \"Clarus\"]  # Alp\n",
    "list2 = [\"y\", \"me\", \"s\", \"way\"]\n",
    "list3 = list(zip(list1, list2))\n",
    "for i, n in list3:\n",
    "  print(i + n)"
   ]
  },
  {
   "cell_type": "code",
   "execution_count": 43,
   "metadata": {
    "colab": {
     "base_uri": "https://localhost:8080/",
     "height": 227
    },
    "id": "4jtsy2sOLsyI",
    "outputId": "6fba867d-cf6f-42a5-cf11-10d202f46486"
   },
   "outputs": [
    {
     "ename": "TypeError",
     "evalue": "ignored",
     "output_type": "error",
     "traceback": [
      "\u001b[0;31m---------------------------------------------------------------------------\u001b[0m",
      "\u001b[0;31mTypeError\u001b[0m                                 Traceback (most recent call last)",
      "\u001b[0;32m<ipython-input-43-d540a1974001>\u001b[0m in \u001b[0;36m<module>\u001b[0;34m()\u001b[0m\n\u001b[1;32m      2\u001b[0m \u001b[0mlist5\u001b[0m \u001b[0;34m=\u001b[0m \u001b[0;34m[\u001b[0m\u001b[0;34m\"y\"\u001b[0m\u001b[0;34m,\u001b[0m \u001b[0;34m\"me\"\u001b[0m\u001b[0;34m,\u001b[0m \u001b[0;34m\"s\"\u001b[0m\u001b[0;34m,\u001b[0m \u001b[0;34m\"way\"\u001b[0m\u001b[0;34m]\u001b[0m\u001b[0;34m\u001b[0m\u001b[0;34m\u001b[0m\u001b[0m\n\u001b[1;32m      3\u001b[0m \u001b[0mx\u001b[0m \u001b[0;34m=\u001b[0m\u001b[0mzip\u001b[0m\u001b[0;34m(\u001b[0m\u001b[0mlist4\u001b[0m\u001b[0;34m,\u001b[0m \u001b[0mlist5\u001b[0m\u001b[0;34m)\u001b[0m\u001b[0;34m\u001b[0m\u001b[0;34m\u001b[0m\u001b[0m\n\u001b[0;32m----> 4\u001b[0;31m \u001b[0mprint\u001b[0m\u001b[0;34m(\u001b[0m\u001b[0mlist\u001b[0m\u001b[0;34m(\u001b[0m\u001b[0mx\u001b[0m\u001b[0;34m)\u001b[0m\u001b[0;34m)\u001b[0m\u001b[0;34m\u001b[0m\u001b[0;34m\u001b[0m\u001b[0m\n\u001b[0m\u001b[1;32m      5\u001b[0m \u001b[0mprint\u001b[0m\u001b[0;34m(\u001b[0m\u001b[0;34m[\u001b[0m\u001b[0mi\u001b[0m\u001b[0;34m+\u001b[0m\u001b[0mj\u001b[0m \u001b[0;32mfor\u001b[0m \u001b[0mi\u001b[0m\u001b[0;34m,\u001b[0m\u001b[0mj\u001b[0m \u001b[0;32min\u001b[0m \u001b[0mzip\u001b[0m\u001b[0;34m(\u001b[0m\u001b[0mlist4\u001b[0m\u001b[0;34m,\u001b[0m \u001b[0mlist5\u001b[0m\u001b[0;34m)\u001b[0m\u001b[0;34m]\u001b[0m\u001b[0;34m)\u001b[0m\u001b[0;34m\u001b[0m\u001b[0;34m\u001b[0m\u001b[0m\n\u001b[1;32m      6\u001b[0m \u001b[0;34m\u001b[0m\u001b[0m\n",
      "\u001b[0;31mTypeError\u001b[0m: 'list' object is not callable"
     ]
    }
   ],
   "source": [
    "list4 = [\"M\", \"na\", \"i\", \"Clarus\"] # Öznur\n",
    "list5 = [\"y\", \"me\", \"s\", \"way\"]\n",
    "x =zip(list4, list5)\n",
    "print(list(x))\n",
    "print([i+j for i,j in zip(list4, list5)])\n",
    "\n"
   ]
  },
  {
   "cell_type": "code",
   "execution_count": 47,
   "metadata": {
    "colab": {
     "base_uri": "https://localhost:8080/",
     "height": 194
    },
    "id": "OYbQu5Bu-lWG",
    "outputId": "ceb86573-c684-43b9-96ec-7ba2bd212368"
   },
   "outputs": [
    {
     "ename": "TypeError",
     "evalue": "ignored",
     "output_type": "error",
     "traceback": [
      "\u001b[0;31m---------------------------------------------------------------------------\u001b[0m",
      "\u001b[0;31mTypeError\u001b[0m                                 Traceback (most recent call last)",
      "\u001b[0;32m<ipython-input-47-43d8a98a0f2b>\u001b[0m in \u001b[0;36m<module>\u001b[0;34m()\u001b[0m\n\u001b[1;32m      3\u001b[0m \u001b[0mconcat\u001b[0m \u001b[0;34m=\u001b[0m \u001b[0mmap\u001b[0m\u001b[0;34m(\u001b[0m\u001b[0mfunc\u001b[0m\u001b[0;34m,\u001b[0m\u001b[0mlist4\u001b[0m\u001b[0;34m,\u001b[0m\u001b[0mlist5\u001b[0m\u001b[0;34m)\u001b[0m\u001b[0;31m#The map () function is going to apply the given function on all the items inside the iterator\u001b[0m\u001b[0;34m\u001b[0m\u001b[0;34m\u001b[0m\u001b[0m\n\u001b[1;32m      4\u001b[0m                               \u001b[0;31m#and return an iterable map object i.e a tuple, a list, etc\u001b[0m\u001b[0;34m\u001b[0m\u001b[0;34m\u001b[0m\u001b[0;34m\u001b[0m\u001b[0m\n\u001b[0;32m----> 5\u001b[0;31m \u001b[0mprint\u001b[0m\u001b[0;34m(\u001b[0m\u001b[0mlist\u001b[0m\u001b[0;34m(\u001b[0m\u001b[0mconcat\u001b[0m\u001b[0;34m)\u001b[0m\u001b[0;34m)\u001b[0m\u001b[0;34m\u001b[0m\u001b[0;34m\u001b[0m\u001b[0m\n\u001b[0m",
      "\u001b[0;31mTypeError\u001b[0m: 'list' object is not callable"
     ]
    }
   ],
   "source": [
    "def func(x,y): # Öznur II\n",
    "  return x+y\n",
    "concat = map(func,list4,list5)#The map () function is going to apply the given function on all the items inside the iterator \n",
    "                              #and return an iterable map object i.e a tuple, a list, etc\n",
    "print(list(concat))"
   ]
  },
  {
   "cell_type": "code",
   "execution_count": 46,
   "metadata": {
    "colab": {
     "base_uri": "https://localhost:8080/"
    },
    "id": "bdVD5xZSAnQI",
    "outputId": "c5c8cf49-9228-481d-b25f-16cc07d832ca"
   },
   "outputs": [
    {
     "name": "stdout",
     "output_type": "stream",
     "text": [
      "My name is Clarusway "
     ]
    }
   ],
   "source": [
    "x =lambda a,b :a+b #A lambda function is a small anonymous function.  # Öznur III\n",
    "result = map(x,list4,list5)#https://www.w3schools.com/python/python_lambda.asp\n",
    "for word in result:\n",
    "    print(word,end= \" \")"
   ]
  },
  {
   "cell_type": "code",
   "execution_count": null,
   "metadata": {
    "id": "TJ39G0chDL1k",
    "scrolled": true
   },
   "outputs": [],
   "source": [
    "list1 = [\"M\", \"na\", \"i\", \"Clarus\"] # Selman\n",
    "list2 = [\"y\", \"me\", \"s\", \"way\"]\n",
    "ls = []\n",
    "for x, y in zip(list1, list2):\n",
    "    ls.append(x+y)\n",
    "ls"
   ]
  },
  {
   "cell_type": "code",
   "execution_count": 48,
   "metadata": {
    "colab": {
     "base_uri": "https://localhost:8080/"
    },
    "id": "noCrnNdKDL1k",
    "outputId": "9063dce6-e61a-4019-b101-a595f3a5d752"
   },
   "outputs": [
    {
     "name": "stdout",
     "output_type": "stream",
     "text": [
      "['My', 'name', 'is', 'Clarusway']\n"
     ]
    }
   ],
   "source": [
    "list1 = [\"M\", \"na\", \"i\", \"Clarus\"] # Selman II\n",
    "list2 = [\"y\", \"me\", \"s\", \"way\"]\n",
    "list3 = []\n",
    "n = 0\n",
    "while n<len(list1):\n",
    "    list3.append(list1[n]+list2[n])\n",
    "    n+=1\n",
    "print(list3)"
   ]
  },
  {
   "cell_type": "code",
   "execution_count": 61,
   "metadata": {
    "colab": {
     "base_uri": "https://localhost:8080/"
    },
    "id": "WAp2HVrQMdTU",
    "outputId": "f13a8228-10e8-4516-91f3-87de25fddebe"
   },
   "outputs": [
    {
     "name": "stdout",
     "output_type": "stream",
     "text": [
      "My name is Clarusway My name is Clarusway My name is Clarusway My name is Clarusway "
     ]
    }
   ],
   "source": [
    "list1 = [\"M\", \"na\", \"i\", \"Clarus\"] # Nadire\n",
    "list2 = [\"y\", \"me\", \"s\", \"way\"]\n",
    "\n",
    "\n",
    "for index in range(len(list1)):\n",
    "  for index in range(len(list2)):\n",
    "   print(str(list1[index]+list2[index]), end=\" \")\n",
    "#print(list((list1[0] + list2[0]+\" \"+list1[1] + list2[1]+\" \"+list1[2] + list2[2]+\" \" +list1[3] + list2[3])))\n"
   ]
  },
  {
   "cell_type": "code",
   "execution_count": null,
   "metadata": {
    "id": "n_h4iDwagNEu"
   },
   "outputs": [],
   "source": [
    "list1 = [\"M\", \"na\", \"i\", \"Clarus\"] # Emre\n",
    "list2 = [\"y\", \"me\", \"s\", \"way\"]\n",
    "list3 = [i + j for i, j in zip(list1, list2)]\n",
    "print(list3)"
   ]
  },
  {
   "cell_type": "markdown",
   "metadata": {
    "id": "HQrhuwypw0Cx"
   },
   "source": [
    "**Quest VII** \n",
    "\n",
    "You are a teacher. Write a program that prints students' grades in letters.\n",
    "\n",
    "![1.PNG](data:image/png;base64,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)\n",
    "\n",
    "For example, if a student scored 73, the letter grade should be C\n"
   ]
  },
  {
   "cell_type": "code",
   "execution_count": null,
   "metadata": {
    "id": "K0DS745V-kCk"
   },
   "outputs": [],
   "source": [
    "score = int(input(\"What is your score?: \"))   #Alp\n",
    "if 96 <= score <= 100:\n",
    "  print(\"Your grade is A+\")\n",
    "elif 90 <= score < 96:\n",
    "  print(\"Your grade is A\")\n",
    "elif 80 <= score <= 89:\n",
    "  print(\"Your grade is B\")\n",
    "elif 70 <= score <= 79:\n",
    "  print(\"Your grade is C\")\n",
    "elif 60 <= score <= 69:\n",
    "  print(\"Your grade is D\")\n",
    "elif 0 <= score <= 79:\n",
    "  print(\"Your grade is C\")"
   ]
  },
  {
   "cell_type": "code",
   "execution_count": 63,
   "metadata": {
    "colab": {
     "base_uri": "https://localhost:8080/"
    },
    "id": "5LuVL3PjM9oH",
    "outputId": "da374bb8-ecf0-4fb6-cc9d-16ebc6be2532"
   },
   "outputs": [
    {
     "name": "stdout",
     "output_type": "stream",
     "text": [
      "Score: 96\n",
      "Letter Grade: A+\n"
     ]
    }
   ],
   "source": [
    "scr = int(input('Score: ')) # Selman\n",
    "if scr<60:\n",
    "    s = 'F'\n",
    "elif scr<70:\n",
    "    s = 'D'\n",
    "elif scr<80:\n",
    "    s = 'C'\n",
    "elif scr<80:\n",
    "    s = 'B'\n",
    "elif scr<90:\n",
    "    s = 'A'\n",
    "else:\n",
    "    s = 'A+'\n",
    "print(f'Letter Grade: {s}')\n"
   ]
  },
  {
   "cell_type": "code",
   "execution_count": null,
   "metadata": {
    "id": "0VthJvFGNKYm"
   },
   "outputs": [],
   "source": [
    "score = int(input(\"Write your score please : \")) # Nadire\n",
    "if score in range(96,100):\n",
    "  print(\"Your grade is A+\")\n",
    "elif score in range(90,95):\n",
    "  print(\"Your grade is A\")\n",
    "elif score in range(80,89):\n",
    "  print(\"Your grade is B\")\n",
    "elif score in range(70,79):\n",
    "  print(\"Your grade is C\")\n",
    "elif score in range(60,69):\n",
    "  print(\"Your grade is D\")\n",
    "elif score in range(0,59):\n",
    "  print(\"Your grade is F\")\n",
    "\n",
    "\n",
    " \n",
    " "
   ]
  },
  {
   "cell_type": "code",
   "execution_count": 62,
   "metadata": {
    "colab": {
     "base_uri": "https://localhost:8080/"
    },
    "id": "u2Zuono_w0Ko",
    "outputId": "7ca98340-560c-4fb9-cff1-6a055f84ee11"
   },
   "outputs": [
    {
     "name": "stdout",
     "output_type": "stream",
     "text": [
      "enter sdutent's score 96\n",
      "A+\n"
     ]
    }
   ],
   "source": [
    "grade= int(input(\"enter sdutent's score \")) # Emre\n",
    "if grade >= 96: \n",
    "    print(\"A+\")\n",
    "elif grade >= 90:\n",
    "    print(\"A\")\n",
    "elif grade >= 80:\n",
    "    print(\"B\")\n",
    "elif grade >= 70:\n",
    "    print(\"C\")\n",
    "elif grade >= 60:\n",
    "    print(\"D\")\n",
    "else:\n",
    "    print(\"F\")"
   ]
  },
  {
   "cell_type": "markdown",
   "metadata": {
    "id": "rENpuqtR2urd"
   },
   "source": [
    "**Quest VIII**\n",
    "\n",
    "Create a simple calculator which can perform basic arithmetic operations like addition, subtraction, multiplication or division depending upon the user input.\n",
    "\n"
   ]
  },
  {
   "cell_type": "code",
   "execution_count": null,
   "metadata": {
    "id": "n8wV_doT-wLE"
   },
   "outputs": [],
   "source": [
    "x1 = int(input(\"Write your first number: \"))   # Alp\n",
    "x2 = int(input(\"Write your second number: \"))\n",
    "x3 = input(\"What is your arithmetic operation symbol? (+, -, *, /): \")\n",
    "if x3 == \"+\":\n",
    "  print(x1 + x2)\n",
    "elif x3 == \"-\":\n",
    "  print(x1 - x2)\n",
    "elif x3 == \"*\":\n",
    "  print(x1 * x2)\n",
    "elif x3 == \"/\":\n",
    "  print(x1 / x2)    "
   ]
  },
  {
   "cell_type": "code",
   "execution_count": 64,
   "metadata": {
    "colab": {
     "base_uri": "https://localhost:8080/"
    },
    "id": "M1r-_awcNcG1",
    "outputId": "c033694a-f262-4d1b-a842-764543c428d6"
   },
   "outputs": [
    {
     "name": "stdout",
     "output_type": "stream",
     "text": [
      "Enter the first number : 5\n",
      "Enter the operator number : +\n",
      "Enter the second number : 5\n",
      "10\n"
     ]
    }
   ],
   "source": [
    "x = int(input(\"Enter the first number : \")) # Öznur\n",
    "op = str(input(\"Enter the operator number : \"))\n",
    "y = int(input(\"Enter the second number : \"))\n",
    "\n",
    "def cal(x,y):\n",
    "  if op == \"+\":\n",
    "      return x+y\n",
    "  elif op== \"-\" :\n",
    "      return x-y\n",
    "  elif op == \"*\":\n",
    "      return x*y\n",
    "  elif op == \"/\":\n",
    "      return x/y \n",
    "print(cal(x,y))\n"
   ]
  },
  {
   "cell_type": "code",
   "execution_count": null,
   "metadata": {
    "id": "Nt1MsKZnDL1n"
   },
   "outputs": [],
   "source": [
    "x = float(input('first number: ')) # Selman\n",
    "opr = input('Arithmetic operation(sum/min/mul/div): ')\n",
    "y = float(input('second number: '))\n",
    "\n",
    "if opr == 'sum':\n",
    "    result = x+y\n",
    "elif opr == 'min':\n",
    "    result = x-y\n",
    "elif opr == 'mul':\n",
    "    result = x*y\n",
    "elif opr == 'div':\n",
    "    result = x/y\n",
    "print(f'Result: {result}')\n",
    "    "
   ]
  },
  {
   "cell_type": "code",
   "execution_count": null,
   "metadata": {
    "id": "o6jqOTWzN37M"
   },
   "outputs": [],
   "source": [
    "# This function adds two numbers  # Nadire\n",
    "def add(x, y):\n",
    "    return x + y\n",
    "\n",
    "# This function subtracts two numbers\n",
    "def subtract(x, y):\n",
    "    return x - y\n",
    "\n",
    "# This function multiplies two numbers\n",
    "def multiply(x, y):\n",
    "    return x * y\n",
    "\n",
    "# This function divides two numbers\n",
    "def divide(x, y):\n",
    "    return x / y\n",
    "\n",
    "\n",
    "print(\"Select operation.\")\n",
    "print(\"1.Add\")\n",
    "print(\"2.Subtract\")\n",
    "print(\"3.Multiply\")\n",
    "print(\"4.Divide\")\n",
    "\n",
    "while True:\n",
    "    # Take input from the user\n",
    "    choice = input(\"Enter choice(1/2/3/4): \")\n",
    "\n",
    "    # Check if choice is one of the four options\n",
    "    if choice in ('1', '2', '3', '4'):\n",
    "        num1 = float(input(\"Enter first number: \"))\n",
    "        num2 = float(input(\"Enter second number: \"))\n",
    "\n",
    "        if choice == '1':\n",
    "            print(num1, \"+\", num2, \"=\", add(num1, num2))\n",
    "\n",
    "        elif choice == '2':\n",
    "            print(num1, \"-\", num2, \"=\", subtract(num1, num2))\n",
    "\n",
    "        elif choice == '3':\n",
    "            print(num1, \"*\", num2, \"=\", multiply(num1, num2))\n",
    "\n",
    "        elif choice == '4':\n",
    "            print(num1, \"/\", num2, \"=\", divide(num1, num2))\n",
    "        break\n",
    "    else:\n",
    "        print(\"Invalid Input\")\n"
   ]
  },
  {
   "cell_type": "code",
   "execution_count": null,
   "metadata": {
    "id": "3Bd6VK8D7Cfy"
   },
   "outputs": [],
   "source": [
    "num1 = input(\"enter number I: \") # Emre\n",
    "sig = input(\"enter sig: \")\n",
    "num2 = input(\"enter number II: \")\n",
    "\n",
    "square = float(num1) ** float(num2)\n",
    "add= float(num1) + float(num2)\n",
    "subtract = float(num1) - float(num2)\n",
    "multiply= float(num1) * float(num2)\n",
    "divide= float(num1) / float(num2)\n",
    "\n",
    "if sig == \"+\":\n",
    "    print(add)\n",
    "elif sig == \"-\":\n",
    "    print(subtract)\n",
    "elif sig == \"*\":\n",
    "    print(multiply)\n",
    "elif sig == \"/\":\n",
    "    print(divide)\n",
    "elif sig == \"**\":\n",
    "    print(square)\n",
    "else:\n",
    "    print(\"error\")"
   ]
  }
 ],
 "metadata": {
  "colab": {
   "collapsed_sections": [],
   "name": "workshop3_extra_all_solutions.ipynb adlı not defterinin kopyası",
   "provenance": []
  },
  "kernelspec": {
   "display_name": "Python 3",
   "language": "python",
   "name": "python3"
  },
  "language_info": {
   "codemirror_mode": {
    "name": "ipython",
    "version": 3
   },
   "file_extension": ".py",
   "mimetype": "text/x-python",
   "name": "python",
   "nbconvert_exporter": "python",
   "pygments_lexer": "ipython3",
   "version": "3.8.8"
  }
 },
 "nbformat": 4,
 "nbformat_minor": 1
}
